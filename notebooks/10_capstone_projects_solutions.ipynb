{
 "cells": [
  {
   "cell_type": "markdown",
   "id": "014367dd",
   "metadata": {
    "_cell_guid": "b1076dfc-b9ad-4769-8c92-a6c4dae69d19",
    "_uuid": "8f2839f25d086af736a60e9eeb907d3b93b6e0e5",
    "papermill": {
     "duration": 0.02564,
     "end_time": "2021-07-31T10:25:07.967044",
     "exception": false,
     "start_time": "2021-07-31T10:25:07.941404",
     "status": "completed"
    },
    "tags": []
   },
   "source": [
    "<center>\n",
    "    <h1>DatatableTon</h1>\n",
    "    💯 datatable exercises\n",
    "    <br>\n",
    "    <br>\n",
    "    <a href='https://github.com/vopani/datatableton/blob/master/LICENSE'>\n",
    "        <img src='https://img.shields.io/badge/license-Apache%202.0-blue.svg?logo=apache'>\n",
    "    </a>\n",
    "    <a href='https://github.com/vopani/datatableton'>\n",
    "        <img src='https://img.shields.io/github/stars/vopani/datatableton?color=yellowgreen&logo=github'>\n",
    "    </a>\n",
    "    <a href='https://twitter.com/vopani'>\n",
    "        <img src='https://img.shields.io/twitter/follow/vopani'>\n",
    "    </a>\n",
    "</center>"
   ]
  },
  {
   "cell_type": "markdown",
   "id": "dc27054d",
   "metadata": {
    "papermill": {
     "duration": 0.023739,
     "end_time": "2021-07-31T10:25:08.015311",
     "exception": false,
     "start_time": "2021-07-31T10:25:07.991572",
     "status": "completed"
    },
    "tags": []
   },
   "source": [
    "<center>\n",
    "    This is Set 10: Capstone Projects (Exercises 91-100) of <b>DatatableTon</b>: <i>💯 datatable exercises</i>\n",
    "    <br>\n",
    "    You can find all the exercises and solutions on <a href=\"https://github.com/vopani/datatableton#exercises-\">GitHub</a>\n",
    "</center>"
   ]
  },
  {
   "cell_type": "markdown",
   "id": "99e0a267",
   "metadata": {
    "papermill": {
     "duration": 0.024097,
     "end_time": "2021-07-31T10:25:08.063403",
     "exception": false,
     "start_time": "2021-07-31T10:25:08.039306",
     "status": "completed"
    },
    "tags": []
   },
   "source": [
    "**Prerequisites**\n",
    "* The `datatable` package should be upgraded to the latest version (or v1.0.0+).\n",
    "* The datasets from the [Avazu](https://www.kaggle.com/c/avazu-ctr-prediction/data) competition on kaggle will be used for the exercises and needs to be downloaded manually.\n",
    "* It is encouraged to use your own datasets for the last exercise but you can use the datasets from the [Tradeshift](https://www.kaggle.com/c/tradeshift-text-classification) competition on kaggle for practise."
   ]
  },
  {
   "cell_type": "code",
   "execution_count": 1,
   "id": "a3c6b894",
   "metadata": {
    "_kg_hide-output": true,
    "execution": {
     "iopub.execute_input": "2021-07-31T10:25:08.115336Z",
     "iopub.status.busy": "2021-07-31T10:25:08.114427Z",
     "iopub.status.idle": "2021-07-31T10:25:41.612395Z",
     "shell.execute_reply": "2021-07-31T10:25:41.612823Z",
     "shell.execute_reply.started": "2021-07-26T10:21:32.941725Z"
    },
    "papermill": {
     "duration": 33.525269,
     "end_time": "2021-07-31T10:25:41.613066",
     "exception": false,
     "start_time": "2021-07-31T10:25:08.087797",
     "status": "completed"
    },
    "tags": []
   },
   "outputs": [
    {
     "name": "stdout",
     "output_type": "stream",
     "text": [
      "Requirement already satisfied: pip in /opt/conda/lib/python3.7/site-packages (21.1.2)\r\n",
      "Collecting pip\r\n",
      "  Downloading pip-21.2.2-py3-none-any.whl (1.6 MB)\r\n",
      "\u001b[K     |████████████████████████████████| 1.6 MB 603 kB/s \r\n",
      "\u001b[?25hInstalling collected packages: pip\r\n",
      "  Attempting uninstall: pip\r\n",
      "    Found existing installation: pip 21.1.2\r\n",
      "    Uninstalling pip-21.1.2:\r\n",
      "      Successfully uninstalled pip-21.1.2\r\n",
      "Successfully installed pip-21.2.2\r\n",
      "\u001b[33mWARNING: Running pip as root will break packages and permissions. You should install packages reliably by using venv: https://pip.pypa.io/warnings/venv\u001b[0m\r\n",
      "Requirement already satisfied: datatable in /opt/conda/lib/python3.7/site-packages (1.0.0)\r\n",
      "\u001b[33mWARNING: Running pip as the 'root' user can result in broken permissions and conflicting behaviour with the system package manager. It is recommended to use a virtual environment instead: https://pip.pypa.io/warnings/venv\u001b[0m\r\n"
     ]
    }
   ],
   "source": [
    "!python3 -m pip install -U pip\n",
    "!python3 -m pip install -U datatable"
   ]
  },
  {
   "cell_type": "code",
   "execution_count": 2,
   "id": "a939f123",
   "metadata": {
    "execution": {
     "iopub.execute_input": "2021-07-31T10:25:41.678460Z",
     "iopub.status.busy": "2021-07-31T10:25:41.677848Z",
     "iopub.status.idle": "2021-07-31T10:25:41.929796Z",
     "shell.execute_reply": "2021-07-31T10:25:41.929378Z",
     "shell.execute_reply.started": "2021-07-31T09:48:21.04998Z"
    },
    "papermill": {
     "duration": 0.285992,
     "end_time": "2021-07-31T10:25:41.929904",
     "exception": false,
     "start_time": "2021-07-31T10:25:41.643912",
     "status": "completed"
    },
    "tags": []
   },
   "outputs": [
    {
     "data": {
      "text/html": [
       "<style type='text/css'>\n",
       ".datatable table.frame { margin-bottom: 0; }\n",
       ".datatable table.frame thead { border-bottom: none; }\n",
       ".datatable table.frame tr.coltypes td {  color: #FFFFFF;  line-height: 6px;  padding: 0 0.5em;}\n",
       ".datatable .bool    { background: #DDDD99; }\n",
       ".datatable .object  { background: #565656; }\n",
       ".datatable .int     { background: #5D9E5D; }\n",
       ".datatable .float   { background: #4040CC; }\n",
       ".datatable .str     { background: #CC4040; }\n",
       ".datatable .time    { background: #40CC40; }\n",
       ".datatable .row_index {  background: var(--jp-border-color3);  border-right: 1px solid var(--jp-border-color0);  color: var(--jp-ui-font-color3);  font-size: 9px;}\n",
       ".datatable .frame tbody td { text-align: left; }\n",
       ".datatable .frame tr.coltypes .row_index {  background: var(--jp-border-color0);}\n",
       ".datatable th:nth-child(2) { padding-left: 12px; }\n",
       ".datatable .hellipsis {  color: var(--jp-cell-editor-border-color);}\n",
       ".datatable .vellipsis {  background: var(--jp-layout-color0);  color: var(--jp-cell-editor-border-color);}\n",
       ".datatable .na {  color: var(--jp-cell-editor-border-color);  font-size: 80%;}\n",
       ".datatable .sp {  opacity: 0.25;}\n",
       ".datatable .footer { font-size: 9px; }\n",
       ".datatable .frame_dimensions {  background: var(--jp-border-color3);  border-top: 1px solid var(--jp-border-color0);  color: var(--jp-ui-font-color3);  display: inline-block;  opacity: 0.6;  padding: 1px 10px 1px 5px;}\n",
       "</style>\n"
      ],
      "text/plain": [
       "<IPython.core.display.HTML object>"
      ]
     },
     "metadata": {},
     "output_type": "display_data"
    }
   ],
   "source": [
    "## edit the paths to the downloaded datasets of Avazu\n",
    "PATH_TRAIN = '../input/avazu-ctr-prediction/train.gz'\n",
    "PATH_TEST = '../input/avazu-ctr-prediction/test.gz'\n",
    "\n",
    "import datatable as dt"
   ]
  },
  {
   "cell_type": "markdown",
   "id": "b0540c10",
   "metadata": {
    "papermill": {
     "duration": 0.029162,
     "end_time": "2021-07-31T10:25:41.989203",
     "exception": false,
     "start_time": "2021-07-31T10:25:41.960041",
     "status": "completed"
    },
    "tags": []
   },
   "source": [
    "**Exercise 91: Read `train.gz` and `test.gz` and assign it to `train` and `test` respectively**"
   ]
  },
  {
   "cell_type": "code",
   "execution_count": 3,
   "id": "3242718a",
   "metadata": {
    "execution": {
     "iopub.execute_input": "2021-07-31T10:25:42.052389Z",
     "iopub.status.busy": "2021-07-31T10:25:42.051886Z",
     "iopub.status.idle": "2021-07-31T10:26:44.219050Z",
     "shell.execute_reply": "2021-07-31T10:26:44.219496Z",
     "shell.execute_reply.started": "2021-07-31T07:40:30.061615Z"
    },
    "papermill": {
     "duration": 62.200941,
     "end_time": "2021-07-31T10:26:44.219819",
     "exception": false,
     "start_time": "2021-07-31T10:25:42.018878",
     "status": "completed"
    },
    "tags": []
   },
   "outputs": [
    {
     "data": {
      "text/html": [
       "<div class='datatable'>\n",
       "  <table class='frame'>\n",
       "  <thead>\n",
       "    <tr class='colnames'><td class='row_index'></td><th>id</th><th>click</th><th>hour</th><th>C1</th><th>banner_pos</th><th>site_id</th><th>site_domain</th><th>site_category</th><th>app_id</th><th>app_domain</th><th class='vellipsis'>&hellip;</th><th>C17</th><th>C18</th><th>C19</th><th>C20</th><th>C21</th></tr>\n",
       "    <tr class='coltypes'><td class='row_index'></td><td class='str' title='str32'>&#x25AA;&#x25AA;&#x25AA;&#x25AA;</td><td class='bool' title='bool8'>&#x25AA;</td><td class='int' title='int32'>&#x25AA;&#x25AA;&#x25AA;&#x25AA;</td><td class='int' title='int32'>&#x25AA;&#x25AA;&#x25AA;&#x25AA;</td><td class='int' title='int32'>&#x25AA;&#x25AA;&#x25AA;&#x25AA;</td><td class='str' title='str32'>&#x25AA;&#x25AA;&#x25AA;&#x25AA;</td><td class='str' title='str32'>&#x25AA;&#x25AA;&#x25AA;&#x25AA;</td><td class='str' title='str32'>&#x25AA;&#x25AA;&#x25AA;&#x25AA;</td><td class='str' title='str32'>&#x25AA;&#x25AA;&#x25AA;&#x25AA;</td><td class='str' title='str32'>&#x25AA;&#x25AA;&#x25AA;&#x25AA;</td><td></td><td class='int' title='int32'>&#x25AA;&#x25AA;&#x25AA;&#x25AA;</td><td class='int' title='int32'>&#x25AA;&#x25AA;&#x25AA;&#x25AA;</td><td class='int' title='int32'>&#x25AA;&#x25AA;&#x25AA;&#x25AA;</td><td class='int' title='int32'>&#x25AA;&#x25AA;&#x25AA;&#x25AA;</td><td class='int' title='int32'>&#x25AA;&#x25AA;&#x25AA;&#x25AA;</td></tr>\n",
       "  </thead>\n",
       "  <tbody>\n",
       "    <tr><td class='row_index'>0</td><td>1000009418151094273</td><td>0</td><td>14102100</td><td>1005</td><td>0</td><td>1fbe01fe</td><td>f3845767</td><td>28905ebd</td><td>ecad2386</td><td>7801e8d9</td><td class=vellipsis>&hellip;</td><td>1722</td><td>0</td><td>35</td><td>&minus;1</td><td>79</td></tr>\n",
       "    <tr><td class='row_index'>1</td><td>10000169349117863715</td><td>0</td><td>14102100</td><td>1005</td><td>0</td><td>1fbe01fe</td><td>f3845767</td><td>28905ebd</td><td>ecad2386</td><td>7801e8d9</td><td class=vellipsis>&hellip;</td><td>1722</td><td>0</td><td>35</td><td>100084</td><td>79</td></tr>\n",
       "    <tr><td class='row_index'>2</td><td>10000371904215119486</td><td>0</td><td>14102100</td><td>1005</td><td>0</td><td>1fbe01fe</td><td>f3845767</td><td>28905ebd</td><td>ecad2386</td><td>7801e8d9</td><td class=vellipsis>&hellip;</td><td>1722</td><td>0</td><td>35</td><td>100084</td><td>79</td></tr>\n",
       "    <tr><td class='row_index'>3</td><td>10000640724480838376</td><td>0</td><td>14102100</td><td>1005</td><td>0</td><td>1fbe01fe</td><td>f3845767</td><td>28905ebd</td><td>ecad2386</td><td>7801e8d9</td><td class=vellipsis>&hellip;</td><td>1722</td><td>0</td><td>35</td><td>100084</td><td>79</td></tr>\n",
       "    <tr><td class='row_index'>4</td><td>10000679056417042096</td><td>0</td><td>14102100</td><td>1005</td><td>1</td><td>fe8cc448</td><td>9166c161</td><td>0569f928</td><td>ecad2386</td><td>7801e8d9</td><td class=vellipsis>&hellip;</td><td>2161</td><td>0</td><td>35</td><td>&minus;1</td><td>157</td></tr>\n",
       "    <tr><td class='row_index'>5</td><td>10000720757801103869</td><td>0</td><td>14102100</td><td>1005</td><td>0</td><td>d6137915</td><td>bb1ef334</td><td>f028772b</td><td>ecad2386</td><td>7801e8d9</td><td class=vellipsis>&hellip;</td><td>1899</td><td>0</td><td>431</td><td>100077</td><td>117</td></tr>\n",
       "    <tr><td class='row_index'>6</td><td>10000724729988544911</td><td>0</td><td>14102100</td><td>1005</td><td>0</td><td>8fda644b</td><td>25d4cfcd</td><td>f028772b</td><td>ecad2386</td><td>7801e8d9</td><td class=vellipsis>&hellip;</td><td>2333</td><td>0</td><td>39</td><td>&minus;1</td><td>157</td></tr>\n",
       "    <tr><td class='row_index'>7</td><td>10000918755742328737</td><td>0</td><td>14102100</td><td>1005</td><td>1</td><td>e151e245</td><td>7e091613</td><td>f028772b</td><td>ecad2386</td><td>7801e8d9</td><td class=vellipsis>&hellip;</td><td>2374</td><td>3</td><td>39</td><td>&minus;1</td><td>23</td></tr>\n",
       "    <tr><td class='row_index'>8</td><td>10000949271186029916</td><td>1</td><td>14102100</td><td>1005</td><td>0</td><td>1fbe01fe</td><td>f3845767</td><td>28905ebd</td><td>ecad2386</td><td>7801e8d9</td><td class=vellipsis>&hellip;</td><td>1722</td><td>0</td><td>35</td><td>&minus;1</td><td>79</td></tr>\n",
       "    <tr><td class='row_index'>9</td><td>10001264480619467364</td><td>0</td><td>14102100</td><td>1002</td><td>0</td><td>84c7ba46</td><td>c4e18dd6</td><td>50e219e0</td><td>ecad2386</td><td>7801e8d9</td><td class=vellipsis>&hellip;</td><td>2496</td><td>3</td><td>167</td><td>100191</td><td>23</td></tr>\n",
       "    <tr><td class='row_index'>10</td><td>10001868339616595934</td><td>0</td><td>14102100</td><td>1005</td><td>1</td><td>e151e245</td><td>7e091613</td><td>f028772b</td><td>ecad2386</td><td>7801e8d9</td><td class=vellipsis>&hellip;</td><td>1974</td><td>2</td><td>39</td><td>100019</td><td>33</td></tr>\n",
       "    <tr><td class='row_index'>11</td><td>10001966791793526909</td><td>0</td><td>14102100</td><td>1005</td><td>0</td><td>1fbe01fe</td><td>f3845767</td><td>28905ebd</td><td>ecad2386</td><td>7801e8d9</td><td class=vellipsis>&hellip;</td><td>1722</td><td>0</td><td>35</td><td>&minus;1</td><td>79</td></tr>\n",
       "    <tr><td class='row_index'>12</td><td>10002028568167339219</td><td>0</td><td>14102100</td><td>1005</td><td>0</td><td>9e8cf15d</td><td>0d3cb7be</td><td>f028772b</td><td>ecad2386</td><td>7801e8d9</td><td class=vellipsis>&hellip;</td><td>2161</td><td>0</td><td>35</td><td>100148</td><td>157</td></tr>\n",
       "    <tr><td class='row_index'>13</td><td>10002044883120869786</td><td>0</td><td>14102100</td><td>1005</td><td>0</td><td>d6137915</td><td>bb1ef334</td><td>f028772b</td><td>ecad2386</td><td>7801e8d9</td><td class=vellipsis>&hellip;</td><td>2227</td><td>0</td><td>687</td><td>100077</td><td>48</td></tr>\n",
       "    <tr><td class='row_index'>14</td><td>10002518649031436658</td><td>0</td><td>14102100</td><td>1005</td><td>0</td><td>85f751fd</td><td>c4e18dd6</td><td>50e219e0</td><td>98fed791</td><td>d9b5648e</td><td class=vellipsis>&hellip;</td><td>2371</td><td>0</td><td>551</td><td>&minus;1</td><td>46</td></tr>\n",
       "    <tr><td class='row_index'>&#x22EE;</td><td class='hellipsis'>&#x22EE;</td><td class='hellipsis'>&#x22EE;</td><td class='hellipsis'>&#x22EE;</td><td class='hellipsis'>&#x22EE;</td><td class='hellipsis'>&#x22EE;</td><td class='hellipsis'>&#x22EE;</td><td class='hellipsis'>&#x22EE;</td><td class='hellipsis'>&#x22EE;</td><td class='hellipsis'>&#x22EE;</td><td class='hellipsis'>&#x22EE;</td><td class='hellipsis'>&#x22F1;</td><td class='hellipsis'>&#x22EE;</td><td class='hellipsis'>&#x22EE;</td><td class='hellipsis'>&#x22EE;</td><td class='hellipsis'>&#x22EE;</td><td class='hellipsis'>&#x22EE;</td></tr>\n",
       "    <tr><td class='row_index'>40,428,962</td><td>9998752756639797808</td><td>1</td><td>14103023</td><td>1005</td><td>1</td><td>e151e245</td><td>7e091613</td><td>f028772b</td><td>ecad2386</td><td>7801e8d9</td><td class=vellipsis>&hellip;</td><td>1872</td><td>3</td><td>39</td><td>100173</td><td>23</td></tr>\n",
       "    <tr><td class='row_index'>40,428,963</td><td>9999037534674210613</td><td>0</td><td>14103023</td><td>1005</td><td>0</td><td>85f751fd</td><td>c4e18dd6</td><td>50e219e0</td><td>9c13b419</td><td>2347f47a</td><td class=vellipsis>&hellip;</td><td>2667</td><td>0</td><td>47</td><td>&minus;1</td><td>221</td></tr>\n",
       "    <tr><td class='row_index'>40,428,964</td><td>9999585120349625051</td><td>0</td><td>14103023</td><td>1005</td><td>1</td><td>f61eaaae</td><td>6b59f079</td><td>f028772b</td><td>ecad2386</td><td>7801e8d9</td><td class=vellipsis>&hellip;</td><td>2372</td><td>0</td><td>813</td><td>&minus;1</td><td>46</td></tr>\n",
       "    <tr><td class='row_index'>40,428,965</td><td>9999636335882369227</td><td>1</td><td>14103023</td><td>1005</td><td>0</td><td>85f751fd</td><td>c4e18dd6</td><td>50e219e0</td><td>3c4b944d</td><td>2347f47a</td><td class=vellipsis>&hellip;</td><td>1887</td><td>3</td><td>39</td><td>100194</td><td>23</td></tr>\n",
       "    <tr><td class='row_index'>40,428,966</td><td>9999746639881208566</td><td>0</td><td>14103023</td><td>1005</td><td>0</td><td>1fbe01fe</td><td>f3845767</td><td>28905ebd</td><td>ecad2386</td><td>7801e8d9</td><td class=vellipsis>&hellip;</td><td>2545</td><td>0</td><td>431</td><td>100084</td><td>221</td></tr>\n",
       "  </tbody>\n",
       "  </table>\n",
       "  <div class='footer'>\n",
       "    <div class='frame_dimensions'>40,428,967 rows &times; 24 columns</div>\n",
       "  </div>\n",
       "</div>\n"
      ],
      "text/plain": [
       "<Frame#7f6b23e335d0 40428967x24>"
      ]
     },
     "execution_count": 3,
     "metadata": {},
     "output_type": "execute_result"
    }
   ],
   "source": [
    "train = dt.fread(PATH_TRAIN)\n",
    "train"
   ]
  },
  {
   "cell_type": "code",
   "execution_count": 4,
   "id": "dfd0cba4",
   "metadata": {
    "execution": {
     "iopub.execute_input": "2021-07-31T10:26:44.287335Z",
     "iopub.status.busy": "2021-07-31T10:26:44.286810Z",
     "iopub.status.idle": "2021-07-31T10:26:52.717207Z",
     "shell.execute_reply": "2021-07-31T10:26:52.717629Z",
     "shell.execute_reply.started": "2021-07-31T07:41:40.914749Z"
    },
    "papermill": {
     "duration": 8.467172,
     "end_time": "2021-07-31T10:26:52.717796",
     "exception": false,
     "start_time": "2021-07-31T10:26:44.250624",
     "status": "completed"
    },
    "tags": []
   },
   "outputs": [
    {
     "data": {
      "text/html": [
       "<div class='datatable'>\n",
       "  <table class='frame'>\n",
       "  <thead>\n",
       "    <tr class='colnames'><td class='row_index'></td><th>id</th><th>hour</th><th>C1</th><th>banner_pos</th><th>site_id</th><th>site_domain</th><th>site_category</th><th>app_id</th><th>app_domain</th><th>app_category</th><th class='vellipsis'>&hellip;</th><th>C17</th><th>C18</th><th>C19</th><th>C20</th><th>C21</th></tr>\n",
       "    <tr class='coltypes'><td class='row_index'></td><td class='str' title='str32'>&#x25AA;&#x25AA;&#x25AA;&#x25AA;</td><td class='int' title='int32'>&#x25AA;&#x25AA;&#x25AA;&#x25AA;</td><td class='int' title='int32'>&#x25AA;&#x25AA;&#x25AA;&#x25AA;</td><td class='int' title='int32'>&#x25AA;&#x25AA;&#x25AA;&#x25AA;</td><td class='str' title='str32'>&#x25AA;&#x25AA;&#x25AA;&#x25AA;</td><td class='str' title='str32'>&#x25AA;&#x25AA;&#x25AA;&#x25AA;</td><td class='str' title='str32'>&#x25AA;&#x25AA;&#x25AA;&#x25AA;</td><td class='str' title='str32'>&#x25AA;&#x25AA;&#x25AA;&#x25AA;</td><td class='str' title='str32'>&#x25AA;&#x25AA;&#x25AA;&#x25AA;</td><td class='str' title='str32'>&#x25AA;&#x25AA;&#x25AA;&#x25AA;</td><td></td><td class='int' title='int32'>&#x25AA;&#x25AA;&#x25AA;&#x25AA;</td><td class='int' title='int32'>&#x25AA;&#x25AA;&#x25AA;&#x25AA;</td><td class='int' title='int32'>&#x25AA;&#x25AA;&#x25AA;&#x25AA;</td><td class='int' title='int32'>&#x25AA;&#x25AA;&#x25AA;&#x25AA;</td><td class='int' title='int32'>&#x25AA;&#x25AA;&#x25AA;&#x25AA;</td></tr>\n",
       "  </thead>\n",
       "  <tbody>\n",
       "    <tr><td class='row_index'>0</td><td>10000174058809263569</td><td>14103100</td><td>1005</td><td>0</td><td>235ba823</td><td>f6ebf28e</td><td>f028772b</td><td>ecad2386</td><td>7801e8d9</td><td>07d7df22</td><td class=vellipsis>&hellip;</td><td>761</td><td>3</td><td>175</td><td>100075</td><td>23</td></tr>\n",
       "    <tr><td class='row_index'>1</td><td>10000182526920855428</td><td>14103100</td><td>1005</td><td>0</td><td>1fbe01fe</td><td>f3845767</td><td>28905ebd</td><td>ecad2386</td><td>7801e8d9</td><td>07d7df22</td><td class=vellipsis>&hellip;</td><td>2616</td><td>0</td><td>35</td><td>100083</td><td>51</td></tr>\n",
       "    <tr><td class='row_index'>2</td><td>10000554139829213984</td><td>14103100</td><td>1005</td><td>0</td><td>1fbe01fe</td><td>f3845767</td><td>28905ebd</td><td>ecad2386</td><td>7801e8d9</td><td>07d7df22</td><td class=vellipsis>&hellip;</td><td>2616</td><td>0</td><td>35</td><td>100083</td><td>51</td></tr>\n",
       "    <tr><td class='row_index'>3</td><td>10001094637809798845</td><td>14103100</td><td>1005</td><td>0</td><td>85f751fd</td><td>c4e18dd6</td><td>50e219e0</td><td>51cedd4e</td><td>aefc06bd</td><td>0f2161f8</td><td class=vellipsis>&hellip;</td><td>1092</td><td>3</td><td>809</td><td>100156</td><td>61</td></tr>\n",
       "    <tr><td class='row_index'>4</td><td>10001377041558670745</td><td>14103100</td><td>1005</td><td>0</td><td>85f751fd</td><td>c4e18dd6</td><td>50e219e0</td><td>9c13b419</td><td>2347f47a</td><td>f95efa07</td><td class=vellipsis>&hellip;</td><td>2667</td><td>0</td><td>47</td><td>&minus;1</td><td>221</td></tr>\n",
       "    <tr><td class='row_index'>5</td><td>10001521204153353724</td><td>14103100</td><td>1005</td><td>1</td><td>57fe1b20</td><td>5b626596</td><td>f028772b</td><td>ecad2386</td><td>7801e8d9</td><td>07d7df22</td><td class=vellipsis>&hellip;</td><td>572</td><td>2</td><td>39</td><td>&minus;1</td><td>32</td></tr>\n",
       "    <tr><td class='row_index'>6</td><td>10001911056707023378</td><td>14103100</td><td>1005</td><td>0</td><td>1fbe01fe</td><td>f3845767</td><td>28905ebd</td><td>ecad2386</td><td>7801e8d9</td><td>07d7df22</td><td class=vellipsis>&hellip;</td><td>2647</td><td>2</td><td>39</td><td>100148</td><td>23</td></tr>\n",
       "    <tr><td class='row_index'>7</td><td>10001982898844213216</td><td>14103100</td><td>1005</td><td>0</td><td>85f751fd</td><td>c4e18dd6</td><td>50e219e0</td><td>388d9bfb</td><td>2347f47a</td><td>cef3e649</td><td class=vellipsis>&hellip;</td><td>2675</td><td>3</td><td>939</td><td>100058</td><td>100</td></tr>\n",
       "    <tr><td class='row_index'>8</td><td>10002000217531288531</td><td>14103100</td><td>1005</td><td>0</td><td>543a539e</td><td>c7ca3108</td><td>3e814130</td><td>ecad2386</td><td>7801e8d9</td><td>07d7df22</td><td class=vellipsis>&hellip;</td><td>2709</td><td>3</td><td>39</td><td>&minus;1</td><td>23</td></tr>\n",
       "    <tr><td class='row_index'>9</td><td>10002107385290585663</td><td>14103100</td><td>1005</td><td>0</td><td>1fbe01fe</td><td>f3845767</td><td>28905ebd</td><td>ecad2386</td><td>7801e8d9</td><td>07d7df22</td><td class=vellipsis>&hellip;</td><td>1722</td><td>0</td><td>35</td><td>&minus;1</td><td>79</td></tr>\n",
       "    <tr><td class='row_index'>10</td><td>10002121728305927027</td><td>14103100</td><td>1005</td><td>0</td><td>1fbe01fe</td><td>f3845767</td><td>28905ebd</td><td>ecad2386</td><td>7801e8d9</td><td>07d7df22</td><td class=vellipsis>&hellip;</td><td>2545</td><td>0</td><td>431</td><td>100084</td><td>221</td></tr>\n",
       "    <tr><td class='row_index'>11</td><td>10002246330438763746</td><td>14103100</td><td>1005</td><td>0</td><td>85f751fd</td><td>c4e18dd6</td><td>50e219e0</td><td>2d869bee</td><td>d9b5648e</td><td>0f2161f8</td><td class=vellipsis>&hellip;</td><td>2736</td><td>0</td><td>33</td><td>100170</td><td>246</td></tr>\n",
       "    <tr><td class='row_index'>12</td><td>10002274319697022546</td><td>14103100</td><td>1010</td><td>7</td><td>85f751fd</td><td>c4e18dd6</td><td>50e219e0</td><td>643e0f88</td><td>7801e8d9</td><td>0f2161f8</td><td class=vellipsis>&hellip;</td><td>2513</td><td>3</td><td>1059</td><td>&minus;1</td><td>68</td></tr>\n",
       "    <tr><td class='row_index'>13</td><td>10002614093820007721</td><td>14103100</td><td>1005</td><td>0</td><td>85f751fd</td><td>c4e18dd6</td><td>50e219e0</td><td>03528b27</td><td>2347f47a</td><td>8ded1f7a</td><td class=vellipsis>&hellip;</td><td>1873</td><td>3</td><td>39</td><td>&minus;1</td><td>23</td></tr>\n",
       "    <tr><td class='row_index'>14</td><td>10003085473872233973</td><td>14103100</td><td>1005</td><td>0</td><td>85f751fd</td><td>c4e18dd6</td><td>50e219e0</td><td>396df801</td><td>2347f47a</td><td>0f2161f8</td><td class=vellipsis>&hellip;</td><td>2736</td><td>0</td><td>33</td><td>100171</td><td>246</td></tr>\n",
       "    <tr><td class='row_index'>&#x22EE;</td><td class='hellipsis'>&#x22EE;</td><td class='hellipsis'>&#x22EE;</td><td class='hellipsis'>&#x22EE;</td><td class='hellipsis'>&#x22EE;</td><td class='hellipsis'>&#x22EE;</td><td class='hellipsis'>&#x22EE;</td><td class='hellipsis'>&#x22EE;</td><td class='hellipsis'>&#x22EE;</td><td class='hellipsis'>&#x22EE;</td><td class='hellipsis'>&#x22EE;</td><td class='hellipsis'>&#x22F1;</td><td class='hellipsis'>&#x22EE;</td><td class='hellipsis'>&#x22EE;</td><td class='hellipsis'>&#x22EE;</td><td class='hellipsis'>&#x22EE;</td><td class='hellipsis'>&#x22EE;</td></tr>\n",
       "    <tr><td class='row_index'>4,577,459</td><td>9998166651591969718</td><td>14103123</td><td>1005</td><td>0</td><td>93eaba74</td><td>7687a86e</td><td>3e814130</td><td>ecad2386</td><td>7801e8d9</td><td>07d7df22</td><td class=vellipsis>&hellip;</td><td>1994</td><td>2</td><td>39</td><td>&minus;1</td><td>33</td></tr>\n",
       "    <tr><td class='row_index'>4,577,460</td><td>9998249812366450951</td><td>14103123</td><td>1005</td><td>0</td><td>17d1b03f</td><td>f3845767</td><td>f028772b</td><td>ecad2386</td><td>7801e8d9</td><td>07d7df22</td><td class=vellipsis>&hellip;</td><td>2545</td><td>0</td><td>431</td><td>100084</td><td>221</td></tr>\n",
       "    <tr><td class='row_index'>4,577,461</td><td>99988023653614546</td><td>14103123</td><td>1005</td><td>0</td><td>5b08c53b</td><td>7687a86e</td><td>3e814130</td><td>ecad2386</td><td>7801e8d9</td><td>07d7df22</td><td class=vellipsis>&hellip;</td><td>1994</td><td>2</td><td>39</td><td>&minus;1</td><td>33</td></tr>\n",
       "    <tr><td class='row_index'>4,577,462</td><td>9999086574712596585</td><td>14103123</td><td>1005</td><td>0</td><td>85f751fd</td><td>c4e18dd6</td><td>50e219e0</td><td>92f5800b</td><td>ae637522</td><td>0f2161f8</td><td class=vellipsis>&hellip;</td><td>2734</td><td>1</td><td>175</td><td>100189</td><td>71</td></tr>\n",
       "    <tr><td class='row_index'>4,577,463</td><td>99992636456518364</td><td>14103123</td><td>1005</td><td>0</td><td>17d1b03f</td><td>f3845767</td><td>f028772b</td><td>ecad2386</td><td>7801e8d9</td><td>07d7df22</td><td class=vellipsis>&hellip;</td><td>2545</td><td>0</td><td>431</td><td>100084</td><td>221</td></tr>\n",
       "  </tbody>\n",
       "  </table>\n",
       "  <div class='footer'>\n",
       "    <div class='frame_dimensions'>4,577,464 rows &times; 23 columns</div>\n",
       "  </div>\n",
       "</div>\n"
      ],
      "text/plain": [
       "<Frame#7f6b610b1720 4577464x23>"
      ]
     },
     "execution_count": 4,
     "metadata": {},
     "output_type": "execute_result"
    }
   ],
   "source": [
    "test = dt.fread(PATH_TEST)\n",
    "test"
   ]
  },
  {
   "cell_type": "markdown",
   "id": "5ef6bb39",
   "metadata": {
    "papermill": {
     "duration": 0.030157,
     "end_time": "2021-07-31T10:26:52.780678",
     "exception": false,
     "start_time": "2021-07-31T10:26:52.750521",
     "status": "completed"
    },
    "tags": []
   },
   "source": [
    "**Exercise 92: Drop the `id` column and update the `hour` column with the hour as an integer in `train`**"
   ]
  },
  {
   "cell_type": "code",
   "execution_count": 5,
   "id": "22d6ede4",
   "metadata": {
    "execution": {
     "iopub.execute_input": "2021-07-31T10:26:52.921555Z",
     "iopub.status.busy": "2021-07-31T10:26:52.915526Z",
     "iopub.status.idle": "2021-07-31T10:26:52.925894Z",
     "shell.execute_reply": "2021-07-31T10:26:52.925482Z",
     "shell.execute_reply.started": "2021-07-31T07:41:49.765315Z"
    },
    "papermill": {
     "duration": 0.114586,
     "end_time": "2021-07-31T10:26:52.926018",
     "exception": false,
     "start_time": "2021-07-31T10:26:52.811432",
     "status": "completed"
    },
    "tags": []
   },
   "outputs": [
    {
     "data": {
      "text/html": [
       "<div class='datatable'>\n",
       "  <table class='frame'>\n",
       "  <thead>\n",
       "    <tr class='colnames'><td class='row_index'></td><th>click</th><th>hour</th><th>C1</th><th>banner_pos</th><th>site_id</th><th>site_domain</th><th>site_category</th><th>app_id</th><th>app_domain</th><th>app_category</th><th class='vellipsis'>&hellip;</th><th>C17</th><th>C18</th><th>C19</th><th>C20</th><th>C21</th></tr>\n",
       "    <tr class='coltypes'><td class='row_index'></td><td class='bool' title='bool8'>&#x25AA;</td><td class='int' title='int64'>&#x25AA;&#x25AA;&#x25AA;&#x25AA;&#x25AA;&#x25AA;&#x25AA;&#x25AA;</td><td class='int' title='int32'>&#x25AA;&#x25AA;&#x25AA;&#x25AA;</td><td class='int' title='int32'>&#x25AA;&#x25AA;&#x25AA;&#x25AA;</td><td class='str' title='str32'>&#x25AA;&#x25AA;&#x25AA;&#x25AA;</td><td class='str' title='str32'>&#x25AA;&#x25AA;&#x25AA;&#x25AA;</td><td class='str' title='str32'>&#x25AA;&#x25AA;&#x25AA;&#x25AA;</td><td class='str' title='str32'>&#x25AA;&#x25AA;&#x25AA;&#x25AA;</td><td class='str' title='str32'>&#x25AA;&#x25AA;&#x25AA;&#x25AA;</td><td class='str' title='str32'>&#x25AA;&#x25AA;&#x25AA;&#x25AA;</td><td></td><td class='int' title='int32'>&#x25AA;&#x25AA;&#x25AA;&#x25AA;</td><td class='int' title='int32'>&#x25AA;&#x25AA;&#x25AA;&#x25AA;</td><td class='int' title='int32'>&#x25AA;&#x25AA;&#x25AA;&#x25AA;</td><td class='int' title='int32'>&#x25AA;&#x25AA;&#x25AA;&#x25AA;</td><td class='int' title='int32'>&#x25AA;&#x25AA;&#x25AA;&#x25AA;</td></tr>\n",
       "  </thead>\n",
       "  <tbody>\n",
       "    <tr><td class='row_index'>0</td><td>0</td><td>0</td><td>1005</td><td>0</td><td>1fbe01fe</td><td>f3845767</td><td>28905ebd</td><td>ecad2386</td><td>7801e8d9</td><td>07d7df22</td><td class=vellipsis>&hellip;</td><td>1722</td><td>0</td><td>35</td><td>&minus;1</td><td>79</td></tr>\n",
       "    <tr><td class='row_index'>1</td><td>0</td><td>0</td><td>1005</td><td>0</td><td>1fbe01fe</td><td>f3845767</td><td>28905ebd</td><td>ecad2386</td><td>7801e8d9</td><td>07d7df22</td><td class=vellipsis>&hellip;</td><td>1722</td><td>0</td><td>35</td><td>100084</td><td>79</td></tr>\n",
       "    <tr><td class='row_index'>2</td><td>0</td><td>0</td><td>1005</td><td>0</td><td>1fbe01fe</td><td>f3845767</td><td>28905ebd</td><td>ecad2386</td><td>7801e8d9</td><td>07d7df22</td><td class=vellipsis>&hellip;</td><td>1722</td><td>0</td><td>35</td><td>100084</td><td>79</td></tr>\n",
       "    <tr><td class='row_index'>3</td><td>0</td><td>0</td><td>1005</td><td>0</td><td>1fbe01fe</td><td>f3845767</td><td>28905ebd</td><td>ecad2386</td><td>7801e8d9</td><td>07d7df22</td><td class=vellipsis>&hellip;</td><td>1722</td><td>0</td><td>35</td><td>100084</td><td>79</td></tr>\n",
       "    <tr><td class='row_index'>4</td><td>0</td><td>0</td><td>1005</td><td>1</td><td>fe8cc448</td><td>9166c161</td><td>0569f928</td><td>ecad2386</td><td>7801e8d9</td><td>07d7df22</td><td class=vellipsis>&hellip;</td><td>2161</td><td>0</td><td>35</td><td>&minus;1</td><td>157</td></tr>\n",
       "    <tr><td class='row_index'>5</td><td>0</td><td>0</td><td>1005</td><td>0</td><td>d6137915</td><td>bb1ef334</td><td>f028772b</td><td>ecad2386</td><td>7801e8d9</td><td>07d7df22</td><td class=vellipsis>&hellip;</td><td>1899</td><td>0</td><td>431</td><td>100077</td><td>117</td></tr>\n",
       "    <tr><td class='row_index'>6</td><td>0</td><td>0</td><td>1005</td><td>0</td><td>8fda644b</td><td>25d4cfcd</td><td>f028772b</td><td>ecad2386</td><td>7801e8d9</td><td>07d7df22</td><td class=vellipsis>&hellip;</td><td>2333</td><td>0</td><td>39</td><td>&minus;1</td><td>157</td></tr>\n",
       "    <tr><td class='row_index'>7</td><td>0</td><td>0</td><td>1005</td><td>1</td><td>e151e245</td><td>7e091613</td><td>f028772b</td><td>ecad2386</td><td>7801e8d9</td><td>07d7df22</td><td class=vellipsis>&hellip;</td><td>2374</td><td>3</td><td>39</td><td>&minus;1</td><td>23</td></tr>\n",
       "    <tr><td class='row_index'>8</td><td>1</td><td>0</td><td>1005</td><td>0</td><td>1fbe01fe</td><td>f3845767</td><td>28905ebd</td><td>ecad2386</td><td>7801e8d9</td><td>07d7df22</td><td class=vellipsis>&hellip;</td><td>1722</td><td>0</td><td>35</td><td>&minus;1</td><td>79</td></tr>\n",
       "    <tr><td class='row_index'>9</td><td>0</td><td>0</td><td>1002</td><td>0</td><td>84c7ba46</td><td>c4e18dd6</td><td>50e219e0</td><td>ecad2386</td><td>7801e8d9</td><td>07d7df22</td><td class=vellipsis>&hellip;</td><td>2496</td><td>3</td><td>167</td><td>100191</td><td>23</td></tr>\n",
       "  </tbody>\n",
       "  </table>\n",
       "  <div class='footer'>\n",
       "    <div class='frame_dimensions'>10 rows &times; 23 columns</div>\n",
       "  </div>\n",
       "</div>\n"
      ],
      "text/plain": [
       "<Frame#7f6b227a4b10 10x23>"
      ]
     },
     "execution_count": 5,
     "metadata": {},
     "output_type": "execute_result"
    }
   ],
   "source": [
    "train[:, dt.update(hour=dt.as_type(dt.str.slice(dt.as_type(dt.f.hour, str), 6, 8), int))]\n",
    "del train['id']\n",
    "train.head()"
   ]
  },
  {
   "cell_type": "markdown",
   "id": "cb1a320a",
   "metadata": {
    "papermill": {
     "duration": 0.030032,
     "end_time": "2021-07-31T10:26:52.986379",
     "exception": false,
     "start_time": "2021-07-31T10:26:52.956347",
     "status": "completed"
    },
    "tags": []
   },
   "source": [
    "**Exercise 93: Assign the column `id` to `test_ids`, drop it from `test` and update the `hour` column with the hour as an integer in `test`**"
   ]
  },
  {
   "cell_type": "code",
   "execution_count": 6,
   "id": "1f1d8e5e",
   "metadata": {
    "execution": {
     "iopub.execute_input": "2021-07-31T10:26:53.052477Z",
     "iopub.status.busy": "2021-07-31T10:26:53.051708Z",
     "iopub.status.idle": "2021-07-31T10:26:53.055477Z",
     "shell.execute_reply": "2021-07-31T10:26:53.054958Z",
     "shell.execute_reply.started": "2021-07-31T07:41:49.840067Z"
    },
    "papermill": {
     "duration": 0.038985,
     "end_time": "2021-07-31T10:26:53.055600",
     "exception": false,
     "start_time": "2021-07-31T10:26:53.016615",
     "status": "completed"
    },
    "tags": []
   },
   "outputs": [
    {
     "data": {
      "text/html": [
       "<div class='datatable'>\n",
       "  <table class='frame'>\n",
       "  <thead>\n",
       "    <tr class='colnames'><td class='row_index'></td><th>id</th></tr>\n",
       "    <tr class='coltypes'><td class='row_index'></td><td class='str' title='str32'>&#x25AA;&#x25AA;&#x25AA;&#x25AA;</td></tr>\n",
       "  </thead>\n",
       "  <tbody>\n",
       "    <tr><td class='row_index'>0</td><td>10000174058809263569</td></tr>\n",
       "    <tr><td class='row_index'>1</td><td>10000182526920855428</td></tr>\n",
       "    <tr><td class='row_index'>2</td><td>10000554139829213984</td></tr>\n",
       "    <tr><td class='row_index'>3</td><td>10001094637809798845</td></tr>\n",
       "    <tr><td class='row_index'>4</td><td>10001377041558670745</td></tr>\n",
       "    <tr><td class='row_index'>5</td><td>10001521204153353724</td></tr>\n",
       "    <tr><td class='row_index'>6</td><td>10001911056707023378</td></tr>\n",
       "    <tr><td class='row_index'>7</td><td>10001982898844213216</td></tr>\n",
       "    <tr><td class='row_index'>8</td><td>10002000217531288531</td></tr>\n",
       "    <tr><td class='row_index'>9</td><td>10002107385290585663</td></tr>\n",
       "  </tbody>\n",
       "  </table>\n",
       "  <div class='footer'>\n",
       "    <div class='frame_dimensions'>10 rows &times; 1 column</div>\n",
       "  </div>\n",
       "</div>\n"
      ],
      "text/plain": [
       "<Frame#7f6b227a4f30 10x1>"
      ]
     },
     "execution_count": 6,
     "metadata": {},
     "output_type": "execute_result"
    }
   ],
   "source": [
    "test_ids = test['id']\n",
    "test_ids.head()"
   ]
  },
  {
   "cell_type": "code",
   "execution_count": 7,
   "id": "8721f02e",
   "metadata": {
    "execution": {
     "iopub.execute_input": "2021-07-31T10:26:53.156289Z",
     "iopub.status.busy": "2021-07-31T10:26:53.155805Z",
     "iopub.status.idle": "2021-07-31T10:26:53.161092Z",
     "shell.execute_reply": "2021-07-31T10:26:53.160688Z",
     "shell.execute_reply.started": "2021-07-31T07:41:49.851787Z"
    },
    "papermill": {
     "duration": 0.058518,
     "end_time": "2021-07-31T10:26:53.161199",
     "exception": false,
     "start_time": "2021-07-31T10:26:53.102681",
     "status": "completed"
    },
    "tags": []
   },
   "outputs": [
    {
     "data": {
      "text/html": [
       "<div class='datatable'>\n",
       "  <table class='frame'>\n",
       "  <thead>\n",
       "    <tr class='colnames'><td class='row_index'></td><th>hour</th><th>C1</th><th>banner_pos</th><th>site_id</th><th>site_domain</th><th>site_category</th><th>app_id</th><th>app_domain</th><th>app_category</th><th>device_id</th><th class='vellipsis'>&hellip;</th><th>C17</th><th>C18</th><th>C19</th><th>C20</th><th>C21</th></tr>\n",
       "    <tr class='coltypes'><td class='row_index'></td><td class='int' title='int64'>&#x25AA;&#x25AA;&#x25AA;&#x25AA;&#x25AA;&#x25AA;&#x25AA;&#x25AA;</td><td class='int' title='int32'>&#x25AA;&#x25AA;&#x25AA;&#x25AA;</td><td class='int' title='int32'>&#x25AA;&#x25AA;&#x25AA;&#x25AA;</td><td class='str' title='str32'>&#x25AA;&#x25AA;&#x25AA;&#x25AA;</td><td class='str' title='str32'>&#x25AA;&#x25AA;&#x25AA;&#x25AA;</td><td class='str' title='str32'>&#x25AA;&#x25AA;&#x25AA;&#x25AA;</td><td class='str' title='str32'>&#x25AA;&#x25AA;&#x25AA;&#x25AA;</td><td class='str' title='str32'>&#x25AA;&#x25AA;&#x25AA;&#x25AA;</td><td class='str' title='str32'>&#x25AA;&#x25AA;&#x25AA;&#x25AA;</td><td class='str' title='str32'>&#x25AA;&#x25AA;&#x25AA;&#x25AA;</td><td></td><td class='int' title='int32'>&#x25AA;&#x25AA;&#x25AA;&#x25AA;</td><td class='int' title='int32'>&#x25AA;&#x25AA;&#x25AA;&#x25AA;</td><td class='int' title='int32'>&#x25AA;&#x25AA;&#x25AA;&#x25AA;</td><td class='int' title='int32'>&#x25AA;&#x25AA;&#x25AA;&#x25AA;</td><td class='int' title='int32'>&#x25AA;&#x25AA;&#x25AA;&#x25AA;</td></tr>\n",
       "  </thead>\n",
       "  <tbody>\n",
       "    <tr><td class='row_index'>0</td><td>0</td><td>1005</td><td>0</td><td>235ba823</td><td>f6ebf28e</td><td>f028772b</td><td>ecad2386</td><td>7801e8d9</td><td>07d7df22</td><td>a99f214a</td><td class=vellipsis>&hellip;</td><td>761</td><td>3</td><td>175</td><td>100075</td><td>23</td></tr>\n",
       "    <tr><td class='row_index'>1</td><td>0</td><td>1005</td><td>0</td><td>1fbe01fe</td><td>f3845767</td><td>28905ebd</td><td>ecad2386</td><td>7801e8d9</td><td>07d7df22</td><td>a99f214a</td><td class=vellipsis>&hellip;</td><td>2616</td><td>0</td><td>35</td><td>100083</td><td>51</td></tr>\n",
       "    <tr><td class='row_index'>2</td><td>0</td><td>1005</td><td>0</td><td>1fbe01fe</td><td>f3845767</td><td>28905ebd</td><td>ecad2386</td><td>7801e8d9</td><td>07d7df22</td><td>a99f214a</td><td class=vellipsis>&hellip;</td><td>2616</td><td>0</td><td>35</td><td>100083</td><td>51</td></tr>\n",
       "    <tr><td class='row_index'>3</td><td>0</td><td>1005</td><td>0</td><td>85f751fd</td><td>c4e18dd6</td><td>50e219e0</td><td>51cedd4e</td><td>aefc06bd</td><td>0f2161f8</td><td>a99f214a</td><td class=vellipsis>&hellip;</td><td>1092</td><td>3</td><td>809</td><td>100156</td><td>61</td></tr>\n",
       "    <tr><td class='row_index'>4</td><td>0</td><td>1005</td><td>0</td><td>85f751fd</td><td>c4e18dd6</td><td>50e219e0</td><td>9c13b419</td><td>2347f47a</td><td>f95efa07</td><td>a99f214a</td><td class=vellipsis>&hellip;</td><td>2667</td><td>0</td><td>47</td><td>&minus;1</td><td>221</td></tr>\n",
       "    <tr><td class='row_index'>5</td><td>0</td><td>1005</td><td>1</td><td>57fe1b20</td><td>5b626596</td><td>f028772b</td><td>ecad2386</td><td>7801e8d9</td><td>07d7df22</td><td>a99f214a</td><td class=vellipsis>&hellip;</td><td>572</td><td>2</td><td>39</td><td>&minus;1</td><td>32</td></tr>\n",
       "    <tr><td class='row_index'>6</td><td>0</td><td>1005</td><td>0</td><td>1fbe01fe</td><td>f3845767</td><td>28905ebd</td><td>ecad2386</td><td>7801e8d9</td><td>07d7df22</td><td>a99f214a</td><td class=vellipsis>&hellip;</td><td>2647</td><td>2</td><td>39</td><td>100148</td><td>23</td></tr>\n",
       "    <tr><td class='row_index'>7</td><td>0</td><td>1005</td><td>0</td><td>85f751fd</td><td>c4e18dd6</td><td>50e219e0</td><td>388d9bfb</td><td>2347f47a</td><td>cef3e649</td><td>3772665a</td><td class=vellipsis>&hellip;</td><td>2675</td><td>3</td><td>939</td><td>100058</td><td>100</td></tr>\n",
       "    <tr><td class='row_index'>8</td><td>0</td><td>1005</td><td>0</td><td>543a539e</td><td>c7ca3108</td><td>3e814130</td><td>ecad2386</td><td>7801e8d9</td><td>07d7df22</td><td>a99f214a</td><td class=vellipsis>&hellip;</td><td>2709</td><td>3</td><td>39</td><td>&minus;1</td><td>23</td></tr>\n",
       "    <tr><td class='row_index'>9</td><td>0</td><td>1005</td><td>0</td><td>1fbe01fe</td><td>f3845767</td><td>28905ebd</td><td>ecad2386</td><td>7801e8d9</td><td>07d7df22</td><td>a99f214a</td><td class=vellipsis>&hellip;</td><td>1722</td><td>0</td><td>35</td><td>&minus;1</td><td>79</td></tr>\n",
       "  </tbody>\n",
       "  </table>\n",
       "  <div class='footer'>\n",
       "    <div class='frame_dimensions'>10 rows &times; 22 columns</div>\n",
       "  </div>\n",
       "</div>\n"
      ],
      "text/plain": [
       "<Frame#7f6b23e33330 10x22>"
      ]
     },
     "execution_count": 7,
     "metadata": {},
     "output_type": "execute_result"
    }
   ],
   "source": [
    "test[:, dt.update(hour=dt.as_type(dt.str.slice(dt.as_type(dt.f.hour, str), 6, 8), int))]\n",
    "del test['id']\n",
    "test.head()"
   ]
  },
  {
   "cell_type": "markdown",
   "id": "c6f4f229",
   "metadata": {
    "papermill": {
     "duration": 0.031108,
     "end_time": "2021-07-31T10:26:53.223732",
     "exception": false,
     "start_time": "2021-07-31T10:26:53.192624",
     "status": "completed"
    },
    "tags": []
   },
   "source": [
    "**Exercise 94: Split `train` into `valid_data`, `valid_target` for rows where `hour=23` and rest as `train_data`, `train_target`**"
   ]
  },
  {
   "cell_type": "code",
   "execution_count": 8,
   "id": "a2168279",
   "metadata": {
    "execution": {
     "iopub.execute_input": "2021-07-31T10:27:09.999242Z",
     "iopub.status.busy": "2021-07-31T10:27:09.997776Z",
     "iopub.status.idle": "2021-07-31T10:27:10.005034Z",
     "shell.execute_reply": "2021-07-31T10:27:10.004180Z",
     "shell.execute_reply.started": "2021-07-31T07:41:49.862748Z"
    },
    "papermill": {
     "duration": 16.750477,
     "end_time": "2021-07-31T10:27:10.005156",
     "exception": false,
     "start_time": "2021-07-31T10:26:53.254679",
     "status": "completed"
    },
    "tags": []
   },
   "outputs": [
    {
     "data": {
      "text/html": [
       "<div class='datatable'>\n",
       "  <table class='frame'>\n",
       "  <thead>\n",
       "    <tr class='colnames'><td class='row_index'></td><th>hour</th><th>C1</th><th>banner_pos</th><th>site_id</th><th>site_domain</th><th>site_category</th><th>app_id</th><th>app_domain</th><th>app_category</th><th>device_id</th><th class='vellipsis'>&hellip;</th><th>C17</th><th>C18</th><th>C19</th><th>C20</th><th>C21</th></tr>\n",
       "    <tr class='coltypes'><td class='row_index'></td><td class='int' title='int64'>&#x25AA;&#x25AA;&#x25AA;&#x25AA;&#x25AA;&#x25AA;&#x25AA;&#x25AA;</td><td class='int' title='int32'>&#x25AA;&#x25AA;&#x25AA;&#x25AA;</td><td class='int' title='int32'>&#x25AA;&#x25AA;&#x25AA;&#x25AA;</td><td class='str' title='str32'>&#x25AA;&#x25AA;&#x25AA;&#x25AA;</td><td class='str' title='str32'>&#x25AA;&#x25AA;&#x25AA;&#x25AA;</td><td class='str' title='str32'>&#x25AA;&#x25AA;&#x25AA;&#x25AA;</td><td class='str' title='str32'>&#x25AA;&#x25AA;&#x25AA;&#x25AA;</td><td class='str' title='str32'>&#x25AA;&#x25AA;&#x25AA;&#x25AA;</td><td class='str' title='str32'>&#x25AA;&#x25AA;&#x25AA;&#x25AA;</td><td class='str' title='str32'>&#x25AA;&#x25AA;&#x25AA;&#x25AA;</td><td></td><td class='int' title='int32'>&#x25AA;&#x25AA;&#x25AA;&#x25AA;</td><td class='int' title='int32'>&#x25AA;&#x25AA;&#x25AA;&#x25AA;</td><td class='int' title='int32'>&#x25AA;&#x25AA;&#x25AA;&#x25AA;</td><td class='int' title='int32'>&#x25AA;&#x25AA;&#x25AA;&#x25AA;</td><td class='int' title='int32'>&#x25AA;&#x25AA;&#x25AA;&#x25AA;</td></tr>\n",
       "  </thead>\n",
       "  <tbody>\n",
       "    <tr><td class='row_index'>0</td><td>23</td><td>1005</td><td>0</td><td>85f751fd</td><td>c4e18dd6</td><td>50e219e0</td><td>7358e05e</td><td>b9528b13</td><td>cef3e649</td><td>c6b5fe99</td><td class=vellipsis>&hellip;</td><td>2443</td><td>2</td><td>39</td><td>&minus;1</td><td>23</td></tr>\n",
       "    <tr><td class='row_index'>1</td><td>23</td><td>1005</td><td>0</td><td>85f751fd</td><td>c4e18dd6</td><td>50e219e0</td><td>85b28c93</td><td>ae637522</td><td>8ded1f7a</td><td>a99f214a</td><td class=vellipsis>&hellip;</td><td>2348</td><td>3</td><td>427</td><td>100003</td><td>61</td></tr>\n",
       "    <tr><td class='row_index'>2</td><td>23</td><td>1005</td><td>0</td><td>89a490f5</td><td>ce307e01</td><td>3e814130</td><td>ecad2386</td><td>7801e8d9</td><td>07d7df22</td><td>a99f214a</td><td class=vellipsis>&hellip;</td><td>2227</td><td>0</td><td>679</td><td>100077</td><td>48</td></tr>\n",
       "    <tr><td class='row_index'>3</td><td>23</td><td>1005</td><td>0</td><td>d9750ee7</td><td>98572c79</td><td>f028772b</td><td>ecad2386</td><td>7801e8d9</td><td>07d7df22</td><td>a99f214a</td><td class=vellipsis>&hellip;</td><td>1722</td><td>0</td><td>35</td><td>100084</td><td>79</td></tr>\n",
       "    <tr><td class='row_index'>4</td><td>23</td><td>1005</td><td>0</td><td>85f751fd</td><td>c4e18dd6</td><td>50e219e0</td><td>54c5d545</td><td>2347f47a</td><td>0f2161f8</td><td>9af87478</td><td class=vellipsis>&hellip;</td><td>2480</td><td>3</td><td>297</td><td>100111</td><td>61</td></tr>\n",
       "    <tr><td class='row_index'>5</td><td>23</td><td>1005</td><td>0</td><td>1fbe01fe</td><td>f3845767</td><td>28905ebd</td><td>ecad2386</td><td>7801e8d9</td><td>07d7df22</td><td>a99f214a</td><td class=vellipsis>&hellip;</td><td>2502</td><td>0</td><td>35</td><td>&minus;1</td><td>221</td></tr>\n",
       "    <tr><td class='row_index'>6</td><td>23</td><td>1005</td><td>1</td><td>5b4d2eda</td><td>16a36ef3</td><td>f028772b</td><td>ecad2386</td><td>7801e8d9</td><td>07d7df22</td><td>a99f214a</td><td class=vellipsis>&hellip;</td><td>2227</td><td>0</td><td>679</td><td>100074</td><td>48</td></tr>\n",
       "    <tr><td class='row_index'>7</td><td>23</td><td>1005</td><td>0</td><td>85f751fd</td><td>c4e18dd6</td><td>50e219e0</td><td>45aff1a2</td><td>5c620f04</td><td>d1327cf5</td><td>a3b3a891</td><td class=vellipsis>&hellip;</td><td>2036</td><td>3</td><td>47</td><td>&minus;1</td><td>156</td></tr>\n",
       "    <tr><td class='row_index'>8</td><td>23</td><td>1005</td><td>0</td><td>1fbe01fe</td><td>f3845767</td><td>28905ebd</td><td>ecad2386</td><td>7801e8d9</td><td>07d7df22</td><td>a99f214a</td><td class=vellipsis>&hellip;</td><td>2502</td><td>0</td><td>35</td><td>100084</td><td>221</td></tr>\n",
       "    <tr><td class='row_index'>9</td><td>23</td><td>1005</td><td>0</td><td>1fbe01fe</td><td>f3845767</td><td>28905ebd</td><td>ecad2386</td><td>7801e8d9</td><td>07d7df22</td><td>a99f214a</td><td class=vellipsis>&hellip;</td><td>2502</td><td>0</td><td>35</td><td>&minus;1</td><td>221</td></tr>\n",
       "  </tbody>\n",
       "  </table>\n",
       "  <div class='footer'>\n",
       "    <div class='frame_dimensions'>10 rows &times; 22 columns</div>\n",
       "  </div>\n",
       "</div>\n"
      ],
      "text/plain": [
       "<Frame#7f6b23e332a0 10x22>"
      ]
     },
     "execution_count": 8,
     "metadata": {},
     "output_type": "execute_result"
    }
   ],
   "source": [
    "valid_data = train[dt.f.hour == 23, [col for col in train.names if col != 'click']]\n",
    "valid_data.head()"
   ]
  },
  {
   "cell_type": "code",
   "execution_count": 9,
   "id": "9978de72",
   "metadata": {
    "execution": {
     "iopub.execute_input": "2021-07-31T10:27:25.548571Z",
     "iopub.status.busy": "2021-07-31T10:27:25.547956Z",
     "iopub.status.idle": "2021-07-31T10:27:25.552508Z",
     "shell.execute_reply": "2021-07-31T10:27:25.551743Z",
     "shell.execute_reply.started": "2021-07-31T07:42:03.620336Z"
    },
    "papermill": {
     "duration": 15.516853,
     "end_time": "2021-07-31T10:27:25.552624",
     "exception": false,
     "start_time": "2021-07-31T10:27:10.035771",
     "status": "completed"
    },
    "tags": []
   },
   "outputs": [
    {
     "data": {
      "text/html": [
       "<div class='datatable'>\n",
       "  <table class='frame'>\n",
       "  <thead>\n",
       "    <tr class='colnames'><td class='row_index'></td><th>click</th></tr>\n",
       "    <tr class='coltypes'><td class='row_index'></td><td class='bool' title='bool8'>&#x25AA;</td></tr>\n",
       "  </thead>\n",
       "  <tbody>\n",
       "    <tr><td class='row_index'>0</td><td>0</td></tr>\n",
       "    <tr><td class='row_index'>1</td><td>0</td></tr>\n",
       "    <tr><td class='row_index'>2</td><td>0</td></tr>\n",
       "    <tr><td class='row_index'>3</td><td>0</td></tr>\n",
       "    <tr><td class='row_index'>4</td><td>0</td></tr>\n",
       "    <tr><td class='row_index'>5</td><td>0</td></tr>\n",
       "    <tr><td class='row_index'>6</td><td>0</td></tr>\n",
       "    <tr><td class='row_index'>7</td><td>0</td></tr>\n",
       "    <tr><td class='row_index'>8</td><td>0</td></tr>\n",
       "    <tr><td class='row_index'>9</td><td>0</td></tr>\n",
       "  </tbody>\n",
       "  </table>\n",
       "  <div class='footer'>\n",
       "    <div class='frame_dimensions'>10 rows &times; 1 column</div>\n",
       "  </div>\n",
       "</div>\n"
      ],
      "text/plain": [
       "<Frame#7f6b227a4d80 10x1>"
      ]
     },
     "execution_count": 9,
     "metadata": {},
     "output_type": "execute_result"
    }
   ],
   "source": [
    "valid_target = train[dt.f.hour == 23, 'click']\n",
    "valid_target.head()"
   ]
  },
  {
   "cell_type": "code",
   "execution_count": 10,
   "id": "edd11ae8",
   "metadata": {
    "execution": {
     "iopub.execute_input": "2021-07-31T10:27:40.502543Z",
     "iopub.status.busy": "2021-07-31T10:27:40.501193Z",
     "iopub.status.idle": "2021-07-31T10:27:40.505189Z",
     "shell.execute_reply": "2021-07-31T10:27:40.504603Z",
     "shell.execute_reply.started": "2021-07-31T07:42:16.48611Z"
    },
    "papermill": {
     "duration": 14.919771,
     "end_time": "2021-07-31T10:27:40.505312",
     "exception": false,
     "start_time": "2021-07-31T10:27:25.585541",
     "status": "completed"
    },
    "tags": []
   },
   "outputs": [
    {
     "data": {
      "text/html": [
       "<div class='datatable'>\n",
       "  <table class='frame'>\n",
       "  <thead>\n",
       "    <tr class='colnames'><td class='row_index'></td><th>hour</th><th>C1</th><th>banner_pos</th><th>site_id</th><th>site_domain</th><th>site_category</th><th>app_id</th><th>app_domain</th><th>app_category</th><th>device_id</th><th class='vellipsis'>&hellip;</th><th>C17</th><th>C18</th><th>C19</th><th>C20</th><th>C21</th></tr>\n",
       "    <tr class='coltypes'><td class='row_index'></td><td class='int' title='int64'>&#x25AA;&#x25AA;&#x25AA;&#x25AA;&#x25AA;&#x25AA;&#x25AA;&#x25AA;</td><td class='int' title='int32'>&#x25AA;&#x25AA;&#x25AA;&#x25AA;</td><td class='int' title='int32'>&#x25AA;&#x25AA;&#x25AA;&#x25AA;</td><td class='str' title='str32'>&#x25AA;&#x25AA;&#x25AA;&#x25AA;</td><td class='str' title='str32'>&#x25AA;&#x25AA;&#x25AA;&#x25AA;</td><td class='str' title='str32'>&#x25AA;&#x25AA;&#x25AA;&#x25AA;</td><td class='str' title='str32'>&#x25AA;&#x25AA;&#x25AA;&#x25AA;</td><td class='str' title='str32'>&#x25AA;&#x25AA;&#x25AA;&#x25AA;</td><td class='str' title='str32'>&#x25AA;&#x25AA;&#x25AA;&#x25AA;</td><td class='str' title='str32'>&#x25AA;&#x25AA;&#x25AA;&#x25AA;</td><td></td><td class='int' title='int32'>&#x25AA;&#x25AA;&#x25AA;&#x25AA;</td><td class='int' title='int32'>&#x25AA;&#x25AA;&#x25AA;&#x25AA;</td><td class='int' title='int32'>&#x25AA;&#x25AA;&#x25AA;&#x25AA;</td><td class='int' title='int32'>&#x25AA;&#x25AA;&#x25AA;&#x25AA;</td><td class='int' title='int32'>&#x25AA;&#x25AA;&#x25AA;&#x25AA;</td></tr>\n",
       "  </thead>\n",
       "  <tbody>\n",
       "    <tr><td class='row_index'>0</td><td>0</td><td>1005</td><td>0</td><td>1fbe01fe</td><td>f3845767</td><td>28905ebd</td><td>ecad2386</td><td>7801e8d9</td><td>07d7df22</td><td>a99f214a</td><td class=vellipsis>&hellip;</td><td>1722</td><td>0</td><td>35</td><td>&minus;1</td><td>79</td></tr>\n",
       "    <tr><td class='row_index'>1</td><td>0</td><td>1005</td><td>0</td><td>1fbe01fe</td><td>f3845767</td><td>28905ebd</td><td>ecad2386</td><td>7801e8d9</td><td>07d7df22</td><td>a99f214a</td><td class=vellipsis>&hellip;</td><td>1722</td><td>0</td><td>35</td><td>100084</td><td>79</td></tr>\n",
       "    <tr><td class='row_index'>2</td><td>0</td><td>1005</td><td>0</td><td>1fbe01fe</td><td>f3845767</td><td>28905ebd</td><td>ecad2386</td><td>7801e8d9</td><td>07d7df22</td><td>a99f214a</td><td class=vellipsis>&hellip;</td><td>1722</td><td>0</td><td>35</td><td>100084</td><td>79</td></tr>\n",
       "    <tr><td class='row_index'>3</td><td>0</td><td>1005</td><td>0</td><td>1fbe01fe</td><td>f3845767</td><td>28905ebd</td><td>ecad2386</td><td>7801e8d9</td><td>07d7df22</td><td>a99f214a</td><td class=vellipsis>&hellip;</td><td>1722</td><td>0</td><td>35</td><td>100084</td><td>79</td></tr>\n",
       "    <tr><td class='row_index'>4</td><td>0</td><td>1005</td><td>1</td><td>fe8cc448</td><td>9166c161</td><td>0569f928</td><td>ecad2386</td><td>7801e8d9</td><td>07d7df22</td><td>a99f214a</td><td class=vellipsis>&hellip;</td><td>2161</td><td>0</td><td>35</td><td>&minus;1</td><td>157</td></tr>\n",
       "    <tr><td class='row_index'>5</td><td>0</td><td>1005</td><td>0</td><td>d6137915</td><td>bb1ef334</td><td>f028772b</td><td>ecad2386</td><td>7801e8d9</td><td>07d7df22</td><td>a99f214a</td><td class=vellipsis>&hellip;</td><td>1899</td><td>0</td><td>431</td><td>100077</td><td>117</td></tr>\n",
       "    <tr><td class='row_index'>6</td><td>0</td><td>1005</td><td>0</td><td>8fda644b</td><td>25d4cfcd</td><td>f028772b</td><td>ecad2386</td><td>7801e8d9</td><td>07d7df22</td><td>a99f214a</td><td class=vellipsis>&hellip;</td><td>2333</td><td>0</td><td>39</td><td>&minus;1</td><td>157</td></tr>\n",
       "    <tr><td class='row_index'>7</td><td>0</td><td>1005</td><td>1</td><td>e151e245</td><td>7e091613</td><td>f028772b</td><td>ecad2386</td><td>7801e8d9</td><td>07d7df22</td><td>a99f214a</td><td class=vellipsis>&hellip;</td><td>2374</td><td>3</td><td>39</td><td>&minus;1</td><td>23</td></tr>\n",
       "    <tr><td class='row_index'>8</td><td>0</td><td>1005</td><td>0</td><td>1fbe01fe</td><td>f3845767</td><td>28905ebd</td><td>ecad2386</td><td>7801e8d9</td><td>07d7df22</td><td>a99f214a</td><td class=vellipsis>&hellip;</td><td>1722</td><td>0</td><td>35</td><td>&minus;1</td><td>79</td></tr>\n",
       "    <tr><td class='row_index'>9</td><td>0</td><td>1002</td><td>0</td><td>84c7ba46</td><td>c4e18dd6</td><td>50e219e0</td><td>ecad2386</td><td>7801e8d9</td><td>07d7df22</td><td>c357dbff</td><td class=vellipsis>&hellip;</td><td>2496</td><td>3</td><td>167</td><td>100191</td><td>23</td></tr>\n",
       "  </tbody>\n",
       "  </table>\n",
       "  <div class='footer'>\n",
       "    <div class='frame_dimensions'>10 rows &times; 22 columns</div>\n",
       "  </div>\n",
       "</div>\n"
      ],
      "text/plain": [
       "<Frame#7f6b227c0270 10x22>"
      ]
     },
     "execution_count": 10,
     "metadata": {},
     "output_type": "execute_result"
    }
   ],
   "source": [
    "train_data = train[dt.f.hour != 23, [col for col in train.names if col != 'click']]\n",
    "train_data.head()"
   ]
  },
  {
   "cell_type": "code",
   "execution_count": 11,
   "id": "fbcb63b4",
   "metadata": {
    "execution": {
     "iopub.execute_input": "2021-07-31T10:27:55.805933Z",
     "iopub.status.busy": "2021-07-31T10:27:55.805411Z",
     "iopub.status.idle": "2021-07-31T10:27:55.811953Z",
     "shell.execute_reply": "2021-07-31T10:27:55.811395Z",
     "shell.execute_reply.started": "2021-07-31T07:42:29.427109Z"
    },
    "papermill": {
     "duration": 15.273159,
     "end_time": "2021-07-31T10:27:55.812079",
     "exception": false,
     "start_time": "2021-07-31T10:27:40.538920",
     "status": "completed"
    },
    "tags": []
   },
   "outputs": [
    {
     "data": {
      "text/html": [
       "<div class='datatable'>\n",
       "  <table class='frame'>\n",
       "  <thead>\n",
       "    <tr class='colnames'><td class='row_index'></td><th>click</th></tr>\n",
       "    <tr class='coltypes'><td class='row_index'></td><td class='bool' title='bool8'>&#x25AA;</td></tr>\n",
       "  </thead>\n",
       "  <tbody>\n",
       "    <tr><td class='row_index'>0</td><td>0</td></tr>\n",
       "    <tr><td class='row_index'>1</td><td>0</td></tr>\n",
       "    <tr><td class='row_index'>2</td><td>0</td></tr>\n",
       "    <tr><td class='row_index'>3</td><td>0</td></tr>\n",
       "    <tr><td class='row_index'>4</td><td>0</td></tr>\n",
       "    <tr><td class='row_index'>5</td><td>0</td></tr>\n",
       "    <tr><td class='row_index'>6</td><td>0</td></tr>\n",
       "    <tr><td class='row_index'>7</td><td>0</td></tr>\n",
       "    <tr><td class='row_index'>8</td><td>1</td></tr>\n",
       "    <tr><td class='row_index'>9</td><td>0</td></tr>\n",
       "  </tbody>\n",
       "  </table>\n",
       "  <div class='footer'>\n",
       "    <div class='frame_dimensions'>10 rows &times; 1 column</div>\n",
       "  </div>\n",
       "</div>\n"
      ],
      "text/plain": [
       "<Frame#7f6b23e336f0 10x1>"
      ]
     },
     "execution_count": 11,
     "metadata": {},
     "output_type": "execute_result"
    }
   ],
   "source": [
    "train_target = train[dt.f.hour != 23, 'click']\n",
    "train_target.head()"
   ]
  },
  {
   "cell_type": "markdown",
   "id": "52ef28d8",
   "metadata": {
    "papermill": {
     "duration": 0.033329,
     "end_time": "2021-07-31T10:27:55.878840",
     "exception": false,
     "start_time": "2021-07-31T10:27:55.845511",
     "status": "completed"
    },
    "tags": []
   },
   "source": [
    "**Exercise 95: Train a FTRL model `model_ftrl_1` using `train_data` and `train_target` and assign the predictions of `valid_data` to `preds_valid_1` and of `test` to `preds_test_1`**"
   ]
  },
  {
   "cell_type": "code",
   "execution_count": 12,
   "id": "fac07cbc",
   "metadata": {
    "execution": {
     "iopub.execute_input": "2021-07-31T10:27:55.951352Z",
     "iopub.status.busy": "2021-07-31T10:27:55.950874Z",
     "iopub.status.idle": "2021-07-31T10:28:42.835850Z",
     "shell.execute_reply": "2021-07-31T10:28:42.836320Z",
     "shell.execute_reply.started": "2021-07-31T07:42:42.806432Z"
    },
    "papermill": {
     "duration": 46.924335,
     "end_time": "2021-07-31T10:28:42.836487",
     "exception": false,
     "start_time": "2021-07-31T10:27:55.912152",
     "status": "completed"
    },
    "tags": []
   },
   "outputs": [
    {
     "data": {
      "text/plain": [
       "<datatable.models.Ftrl at 0x7f6b227c05d0>"
      ]
     },
     "execution_count": 12,
     "metadata": {},
     "output_type": "execute_result"
    }
   ],
   "source": [
    "from datatable.models import Ftrl\n",
    "\n",
    "model_ftrl_1 = Ftrl()\n",
    "model_ftrl_1.fit(train_data, train_target)\n",
    "model_ftrl_1"
   ]
  },
  {
   "cell_type": "code",
   "execution_count": 13,
   "id": "e4ac1e3a",
   "metadata": {
    "execution": {
     "iopub.execute_input": "2021-07-31T10:28:43.796281Z",
     "iopub.status.busy": "2021-07-31T10:28:43.795559Z",
     "iopub.status.idle": "2021-07-31T10:28:43.809108Z",
     "shell.execute_reply": "2021-07-31T10:28:43.809781Z",
     "shell.execute_reply.started": "2021-07-31T07:43:19.449075Z"
    },
    "papermill": {
     "duration": 0.937662,
     "end_time": "2021-07-31T10:28:43.809950",
     "exception": false,
     "start_time": "2021-07-31T10:28:42.872288",
     "status": "completed"
    },
    "tags": []
   },
   "outputs": [
    {
     "data": {
      "text/html": [
       "<div class='datatable'>\n",
       "  <table class='frame'>\n",
       "  <thead>\n",
       "    <tr class='colnames'><td class='row_index'></td><th>False</th><th>True</th></tr>\n",
       "    <tr class='coltypes'><td class='row_index'></td><td class='float' title='float32'>&#x25AA;&#x25AA;&#x25AA;&#x25AA;</td><td class='float' title='float32'>&#x25AA;&#x25AA;&#x25AA;&#x25AA;</td></tr>\n",
       "  </thead>\n",
       "  <tbody>\n",
       "    <tr><td class='row_index'>0</td><td>0.838505</td><td>0.161495</td></tr>\n",
       "    <tr><td class='row_index'>1</td><td>0.978231</td><td>0.0217693</td></tr>\n",
       "    <tr><td class='row_index'>2</td><td>0.818862</td><td>0.181138</td></tr>\n",
       "    <tr><td class='row_index'>3</td><td>0.817515</td><td>0.182485</td></tr>\n",
       "    <tr><td class='row_index'>4</td><td>0.940199</td><td>0.0598007</td></tr>\n",
       "    <tr><td class='row_index'>5</td><td>0.808477</td><td>0.191523</td></tr>\n",
       "    <tr><td class='row_index'>6</td><td>0.871876</td><td>0.128124</td></tr>\n",
       "    <tr><td class='row_index'>7</td><td>0.973135</td><td>0.0268654</td></tr>\n",
       "    <tr><td class='row_index'>8</td><td>0.805383</td><td>0.194617</td></tr>\n",
       "    <tr><td class='row_index'>9</td><td>0.77689</td><td>0.22311</td></tr>\n",
       "  </tbody>\n",
       "  </table>\n",
       "  <div class='footer'>\n",
       "    <div class='frame_dimensions'>10 rows &times; 2 columns</div>\n",
       "  </div>\n",
       "</div>\n"
      ],
      "text/plain": [
       "<Frame#7f6b227a4f60 10x2>"
      ]
     },
     "execution_count": 13,
     "metadata": {},
     "output_type": "execute_result"
    }
   ],
   "source": [
    "preds_valid_1 = model_ftrl_1.predict(valid_data)\n",
    "preds_valid_1.head()"
   ]
  },
  {
   "cell_type": "code",
   "execution_count": 14,
   "id": "7498f537",
   "metadata": {
    "execution": {
     "iopub.execute_input": "2021-07-31T10:28:48.147523Z",
     "iopub.status.busy": "2021-07-31T10:28:48.146953Z",
     "iopub.status.idle": "2021-07-31T10:28:48.159066Z",
     "shell.execute_reply": "2021-07-31T10:28:48.159561Z",
     "shell.execute_reply.started": "2021-07-31T07:43:20.108301Z"
    },
    "papermill": {
     "duration": 4.309705,
     "end_time": "2021-07-31T10:28:48.159745",
     "exception": false,
     "start_time": "2021-07-31T10:28:43.850040",
     "status": "completed"
    },
    "tags": []
   },
   "outputs": [
    {
     "data": {
      "text/html": [
       "<div class='datatable'>\n",
       "  <table class='frame'>\n",
       "  <thead>\n",
       "    <tr class='colnames'><td class='row_index'></td><th>False</th><th>True</th></tr>\n",
       "    <tr class='coltypes'><td class='row_index'></td><td class='float' title='float32'>&#x25AA;&#x25AA;&#x25AA;&#x25AA;</td><td class='float' title='float32'>&#x25AA;&#x25AA;&#x25AA;&#x25AA;</td></tr>\n",
       "  </thead>\n",
       "  <tbody>\n",
       "    <tr><td class='row_index'>0</td><td>0.865605</td><td>0.134395</td></tr>\n",
       "    <tr><td class='row_index'>1</td><td>0.828614</td><td>0.171386</td></tr>\n",
       "    <tr><td class='row_index'>2</td><td>0.798746</td><td>0.201254</td></tr>\n",
       "    <tr><td class='row_index'>3</td><td>0.950046</td><td>0.049954</td></tr>\n",
       "    <tr><td class='row_index'>4</td><td>0.694504</td><td>0.305496</td></tr>\n",
       "    <tr><td class='row_index'>5</td><td>0.709894</td><td>0.290106</td></tr>\n",
       "    <tr><td class='row_index'>6</td><td>0.786705</td><td>0.213295</td></tr>\n",
       "    <tr><td class='row_index'>7</td><td>0.88764</td><td>0.11236</td></tr>\n",
       "    <tr><td class='row_index'>8</td><td>0.936404</td><td>0.0635957</td></tr>\n",
       "    <tr><td class='row_index'>9</td><td>0.851144</td><td>0.148856</td></tr>\n",
       "  </tbody>\n",
       "  </table>\n",
       "  <div class='footer'>\n",
       "    <div class='frame_dimensions'>10 rows &times; 2 columns</div>\n",
       "  </div>\n",
       "</div>\n"
      ],
      "text/plain": [
       "<Frame#7f6b23e33750 10x2>"
      ]
     },
     "execution_count": 14,
     "metadata": {},
     "output_type": "execute_result"
    }
   ],
   "source": [
    "preds_test_1 = model_ftrl_1.predict(test)\n",
    "preds_test_1.head()"
   ]
  },
  {
   "cell_type": "markdown",
   "id": "b0f17852",
   "metadata": {
    "papermill": {
     "duration": 0.033982,
     "end_time": "2021-07-31T10:28:48.233759",
     "exception": false,
     "start_time": "2021-07-31T10:28:48.199777",
     "status": "completed"
    },
    "tags": []
   },
   "source": [
    "**Exercise 96: Display the feature importances of `model_ftrl_1` in descending order and calculate the logloss of `valid_target` and `preds_valid_1`**"
   ]
  },
  {
   "cell_type": "code",
   "execution_count": 15,
   "id": "48cdaa3e",
   "metadata": {
    "execution": {
     "iopub.execute_input": "2021-07-31T10:28:48.309387Z",
     "iopub.status.busy": "2021-07-31T10:28:48.308721Z",
     "iopub.status.idle": "2021-07-31T10:28:48.312699Z",
     "shell.execute_reply": "2021-07-31T10:28:48.313192Z",
     "shell.execute_reply.started": "2021-07-31T07:43:23.034352Z"
    },
    "papermill": {
     "duration": 0.046463,
     "end_time": "2021-07-31T10:28:48.313372",
     "exception": false,
     "start_time": "2021-07-31T10:28:48.266909",
     "status": "completed"
    },
    "tags": []
   },
   "outputs": [
    {
     "data": {
      "text/html": [
       "<div class='datatable'>\n",
       "  <table class='frame'>\n",
       "  <thead>\n",
       "    <tr class='colnames'><td class='row_index'></td><th>feature_name</th><th>feature_importance</th></tr>\n",
       "    <tr class='coltypes'><td class='row_index'></td><td class='str' title='str32'>&#x25AA;&#x25AA;&#x25AA;&#x25AA;</td><td class='float' title='float32'>&#x25AA;&#x25AA;&#x25AA;&#x25AA;</td></tr>\n",
       "  </thead>\n",
       "  <tbody>\n",
       "    <tr><td class='row_index'>0</td><td>C16</td><td>1</td></tr>\n",
       "    <tr><td class='row_index'>1</td><td>app_id</td><td>0.802428</td></tr>\n",
       "    <tr><td class='row_index'>2</td><td>C15</td><td>0.761605</td></tr>\n",
       "    <tr><td class='row_index'>3</td><td>site_id</td><td>0.744101</td></tr>\n",
       "    <tr><td class='row_index'>4</td><td>banner_pos</td><td>0.710922</td></tr>\n",
       "    <tr><td class='row_index'>5</td><td>C18</td><td>0.684699</td></tr>\n",
       "    <tr><td class='row_index'>6</td><td>app_domain</td><td>0.679807</td></tr>\n",
       "    <tr><td class='row_index'>7</td><td>site_category</td><td>0.671668</td></tr>\n",
       "    <tr><td class='row_index'>8</td><td>device_type</td><td>0.666143</td></tr>\n",
       "    <tr><td class='row_index'>9</td><td>site_domain</td><td>0.656753</td></tr>\n",
       "    <tr><td class='row_index'>10</td><td>C1</td><td>0.634491</td></tr>\n",
       "    <tr><td class='row_index'>11</td><td>device_conn_type</td><td>0.598733</td></tr>\n",
       "    <tr><td class='row_index'>12</td><td>C21</td><td>0.54993</td></tr>\n",
       "    <tr><td class='row_index'>13</td><td>app_category</td><td>0.515514</td></tr>\n",
       "    <tr><td class='row_index'>14</td><td>C19</td><td>0.45148</td></tr>\n",
       "    <tr><td class='row_index'>15</td><td>C17</td><td>0.430087</td></tr>\n",
       "    <tr><td class='row_index'>16</td><td>device_model</td><td>0.429677</td></tr>\n",
       "    <tr><td class='row_index'>17</td><td>C14</td><td>0.334925</td></tr>\n",
       "    <tr><td class='row_index'>18</td><td>C20</td><td>0.23767</td></tr>\n",
       "    <tr><td class='row_index'>19</td><td>hour</td><td>0.185803</td></tr>\n",
       "    <tr><td class='row_index'>20</td><td>device_id</td><td>0.142158</td></tr>\n",
       "    <tr><td class='row_index'>21</td><td>device_ip</td><td>0.0405234</td></tr>\n",
       "  </tbody>\n",
       "  </table>\n",
       "  <div class='footer'>\n",
       "    <div class='frame_dimensions'>22 rows &times; 2 columns</div>\n",
       "  </div>\n",
       "</div>\n"
      ],
      "text/plain": [
       "<Frame#7f6b227c05a0 22x2>"
      ]
     },
     "execution_count": 15,
     "metadata": {},
     "output_type": "execute_result"
    }
   ],
   "source": [
    "model_ftrl_1.feature_importances[:, :, dt.sort(-dt.f.feature_importance)]"
   ]
  },
  {
   "cell_type": "code",
   "execution_count": 16,
   "id": "ad2d6402",
   "metadata": {
    "execution": {
     "iopub.execute_input": "2021-07-31T10:28:48.799052Z",
     "iopub.status.busy": "2021-07-31T10:28:48.798020Z",
     "iopub.status.idle": "2021-07-31T10:28:48.802192Z",
     "shell.execute_reply": "2021-07-31T10:28:48.802770Z",
     "shell.execute_reply.started": "2021-07-31T07:43:23.050406Z"
    },
    "papermill": {
     "duration": 0.431728,
     "end_time": "2021-07-31T10:28:48.802974",
     "exception": false,
     "start_time": "2021-07-31T10:28:48.371246",
     "status": "completed"
    },
    "tags": []
   },
   "outputs": [
    {
     "data": {
      "text/plain": [
       "0.4028581380844116"
      ]
     },
     "execution_count": 16,
     "metadata": {},
     "output_type": "execute_result"
    }
   ],
   "source": [
    "preds = dt.cbind(valid_target, preds_valid_1)\n",
    "preds[:, -dt.mean(dt.f.click * dt.math.log(dt.f['True']) + (1-dt.f.click) * dt.math.log(dt.f['False']))][0, 0]"
   ]
  },
  {
   "cell_type": "markdown",
   "id": "049c6568",
   "metadata": {
    "papermill": {
     "duration": 0.052798,
     "end_time": "2021-07-31T10:28:48.908539",
     "exception": false,
     "start_time": "2021-07-31T10:28:48.855741",
     "status": "completed"
    },
    "tags": []
   },
   "source": [
    "**Exercise 97: Create `submission_1` in the submission format of the competition, write it as `submission_1.csv` and submit it on Kaggle**"
   ]
  },
  {
   "cell_type": "code",
   "execution_count": 17,
   "id": "af8bf80f",
   "metadata": {
    "execution": {
     "iopub.execute_input": "2021-07-31T10:28:48.998931Z",
     "iopub.status.busy": "2021-07-31T10:28:48.998447Z",
     "iopub.status.idle": "2021-07-31T10:28:49.305798Z",
     "shell.execute_reply": "2021-07-31T10:28:49.306248Z",
     "shell.execute_reply.started": "2021-07-31T07:43:23.28522Z"
    },
    "papermill": {
     "duration": 0.344249,
     "end_time": "2021-07-31T10:28:49.306389",
     "exception": false,
     "start_time": "2021-07-31T10:28:48.962140",
     "status": "completed"
    },
    "tags": []
   },
   "outputs": [
    {
     "data": {
      "text/html": [
       "<div class='datatable'>\n",
       "  <table class='frame'>\n",
       "  <thead>\n",
       "    <tr class='colnames'><td class='row_index'></td><th>id</th><th>click</th></tr>\n",
       "    <tr class='coltypes'><td class='row_index'></td><td class='str' title='str32'>&#x25AA;&#x25AA;&#x25AA;&#x25AA;</td><td class='float' title='float32'>&#x25AA;&#x25AA;&#x25AA;&#x25AA;</td></tr>\n",
       "  </thead>\n",
       "  <tbody>\n",
       "    <tr><td class='row_index'>0</td><td>10000174058809263569</td><td>0.134395</td></tr>\n",
       "    <tr><td class='row_index'>1</td><td>10000182526920855428</td><td>0.171386</td></tr>\n",
       "    <tr><td class='row_index'>2</td><td>10000554139829213984</td><td>0.201254</td></tr>\n",
       "    <tr><td class='row_index'>3</td><td>10001094637809798845</td><td>0.049954</td></tr>\n",
       "    <tr><td class='row_index'>4</td><td>10001377041558670745</td><td>0.305496</td></tr>\n",
       "    <tr><td class='row_index'>5</td><td>10001521204153353724</td><td>0.290106</td></tr>\n",
       "    <tr><td class='row_index'>6</td><td>10001911056707023378</td><td>0.213295</td></tr>\n",
       "    <tr><td class='row_index'>7</td><td>10001982898844213216</td><td>0.11236</td></tr>\n",
       "    <tr><td class='row_index'>8</td><td>10002000217531288531</td><td>0.0635957</td></tr>\n",
       "    <tr><td class='row_index'>9</td><td>10002107385290585663</td><td>0.148856</td></tr>\n",
       "  </tbody>\n",
       "  </table>\n",
       "  <div class='footer'>\n",
       "    <div class='frame_dimensions'>10 rows &times; 2 columns</div>\n",
       "  </div>\n",
       "</div>\n"
      ],
      "text/plain": [
       "<Frame#7f6b227c0a20 10x2>"
      ]
     },
     "execution_count": 17,
     "metadata": {},
     "output_type": "execute_result"
    }
   ],
   "source": [
    "submission_1 = dt.Frame(id=test_ids, click=preds_test_1['True'])\n",
    "submission_1.to_csv('submission_1.csv')\n",
    "submission_1.head()"
   ]
  },
  {
   "cell_type": "markdown",
   "id": "3f6c5ded",
   "metadata": {
    "papermill": {
     "duration": 0.034757,
     "end_time": "2021-07-31T10:28:49.382040",
     "exception": false,
     "start_time": "2021-07-31T10:28:49.347283",
     "status": "completed"
    },
    "tags": []
   },
   "source": [
    "**Exercise 98: Train another FTRL model `model_ftrl_2` with `nepochs=3`, `nbins=10 ** 8`, display it's feature importances, score & evaluate it's logloss on `valid_data` and submit the predictions `preds_test_2` of `test` as `submission_2`**"
   ]
  },
  {
   "cell_type": "code",
   "execution_count": 18,
   "id": "a109e234",
   "metadata": {
    "execution": {
     "iopub.execute_input": "2021-07-31T10:31:23.065205Z",
     "iopub.status.busy": "2021-07-31T10:31:23.023250Z",
     "iopub.status.idle": "2021-07-31T10:31:23.067128Z",
     "shell.execute_reply": "2021-07-31T10:31:23.065727Z",
     "shell.execute_reply.started": "2021-07-31T07:43:23.664284Z"
    },
    "papermill": {
     "duration": 153.651449,
     "end_time": "2021-07-31T10:31:23.067247",
     "exception": false,
     "start_time": "2021-07-31T10:28:49.415798",
     "status": "completed"
    },
    "tags": []
   },
   "outputs": [
    {
     "data": {
      "text/plain": [
       "<datatable.models.Ftrl at 0x7f6b227c0de0>"
      ]
     },
     "execution_count": 18,
     "metadata": {},
     "output_type": "execute_result"
    }
   ],
   "source": [
    "model_ftrl_2 = Ftrl(nepochs=3, nbins=10**8)\n",
    "model_ftrl_2.fit(train_data, train_target)\n",
    "model_ftrl_2"
   ]
  },
  {
   "cell_type": "code",
   "execution_count": 19,
   "id": "f80e4b40",
   "metadata": {
    "execution": {
     "iopub.execute_input": "2021-07-31T10:31:23.145348Z",
     "iopub.status.busy": "2021-07-31T10:31:23.144756Z",
     "iopub.status.idle": "2021-07-31T10:31:23.146948Z",
     "shell.execute_reply": "2021-07-31T10:31:23.147796Z",
     "shell.execute_reply.started": "2021-07-31T08:02:28.881609Z"
    },
    "papermill": {
     "duration": 0.04512,
     "end_time": "2021-07-31T10:31:23.147955",
     "exception": false,
     "start_time": "2021-07-31T10:31:23.102835",
     "status": "completed"
    },
    "tags": []
   },
   "outputs": [
    {
     "data": {
      "text/html": [
       "<div class='datatable'>\n",
       "  <table class='frame'>\n",
       "  <thead>\n",
       "    <tr class='colnames'><td class='row_index'></td><th>feature_name</th><th>feature_importance</th></tr>\n",
       "    <tr class='coltypes'><td class='row_index'></td><td class='str' title='str32'>&#x25AA;&#x25AA;&#x25AA;&#x25AA;</td><td class='float' title='float32'>&#x25AA;&#x25AA;&#x25AA;&#x25AA;</td></tr>\n",
       "  </thead>\n",
       "  <tbody>\n",
       "    <tr><td class='row_index'>0</td><td>C16</td><td>1</td></tr>\n",
       "    <tr><td class='row_index'>1</td><td>app_id</td><td>0.883275</td></tr>\n",
       "    <tr><td class='row_index'>2</td><td>C15</td><td>0.742043</td></tr>\n",
       "    <tr><td class='row_index'>3</td><td>app_domain</td><td>0.730407</td></tr>\n",
       "    <tr><td class='row_index'>4</td><td>site_id</td><td>0.727746</td></tr>\n",
       "    <tr><td class='row_index'>5</td><td>device_type</td><td>0.713567</td></tr>\n",
       "    <tr><td class='row_index'>6</td><td>site_category</td><td>0.711194</td></tr>\n",
       "    <tr><td class='row_index'>7</td><td>banner_pos</td><td>0.696404</td></tr>\n",
       "    <tr><td class='row_index'>8</td><td>C1</td><td>0.664551</td></tr>\n",
       "    <tr><td class='row_index'>9</td><td>device_conn_type</td><td>0.66244</td></tr>\n",
       "    <tr><td class='row_index'>10</td><td>site_domain</td><td>0.661091</td></tr>\n",
       "    <tr><td class='row_index'>11</td><td>C18</td><td>0.613858</td></tr>\n",
       "    <tr><td class='row_index'>12</td><td>C21</td><td>0.495563</td></tr>\n",
       "    <tr><td class='row_index'>13</td><td>device_model</td><td>0.477135</td></tr>\n",
       "    <tr><td class='row_index'>14</td><td>app_category</td><td>0.454873</td></tr>\n",
       "    <tr><td class='row_index'>15</td><td>C17</td><td>0.441572</td></tr>\n",
       "    <tr><td class='row_index'>16</td><td>C19</td><td>0.431588</td></tr>\n",
       "    <tr><td class='row_index'>17</td><td>C14</td><td>0.357297</td></tr>\n",
       "    <tr><td class='row_index'>18</td><td>C20</td><td>0.245997</td></tr>\n",
       "    <tr><td class='row_index'>19</td><td>device_id</td><td>0.207456</td></tr>\n",
       "    <tr><td class='row_index'>20</td><td>hour</td><td>0.192074</td></tr>\n",
       "    <tr><td class='row_index'>21</td><td>device_ip</td><td>0.0484996</td></tr>\n",
       "  </tbody>\n",
       "  </table>\n",
       "  <div class='footer'>\n",
       "    <div class='frame_dimensions'>22 rows &times; 2 columns</div>\n",
       "  </div>\n",
       "</div>\n"
      ],
      "text/plain": [
       "<Frame#7f6b227c0ed0 22x2>"
      ]
     },
     "execution_count": 19,
     "metadata": {},
     "output_type": "execute_result"
    }
   ],
   "source": [
    "model_ftrl_2.feature_importances[:, :, dt.sort(-dt.f.feature_importance)]"
   ]
  },
  {
   "cell_type": "code",
   "execution_count": 20,
   "id": "78056248",
   "metadata": {
    "execution": {
     "iopub.execute_input": "2021-07-31T10:31:24.162359Z",
     "iopub.status.busy": "2021-07-31T10:31:24.161224Z",
     "iopub.status.idle": "2021-07-31T10:31:24.168977Z",
     "shell.execute_reply": "2021-07-31T10:31:24.169423Z",
     "shell.execute_reply.started": "2021-07-31T08:02:30.553859Z"
    },
    "papermill": {
     "duration": 0.978265,
     "end_time": "2021-07-31T10:31:24.169610",
     "exception": false,
     "start_time": "2021-07-31T10:31:23.191345",
     "status": "completed"
    },
    "tags": []
   },
   "outputs": [
    {
     "data": {
      "text/html": [
       "<div class='datatable'>\n",
       "  <table class='frame'>\n",
       "  <thead>\n",
       "    <tr class='colnames'><td class='row_index'></td><th>False</th><th>True</th></tr>\n",
       "    <tr class='coltypes'><td class='row_index'></td><td class='float' title='float32'>&#x25AA;&#x25AA;&#x25AA;&#x25AA;</td><td class='float' title='float32'>&#x25AA;&#x25AA;&#x25AA;&#x25AA;</td></tr>\n",
       "  </thead>\n",
       "  <tbody>\n",
       "    <tr><td class='row_index'>0</td><td>0.823654</td><td>0.176346</td></tr>\n",
       "    <tr><td class='row_index'>1</td><td>0.98279</td><td>0.0172102</td></tr>\n",
       "    <tr><td class='row_index'>2</td><td>0.804741</td><td>0.195259</td></tr>\n",
       "    <tr><td class='row_index'>3</td><td>0.809493</td><td>0.190507</td></tr>\n",
       "    <tr><td class='row_index'>4</td><td>0.938615</td><td>0.0613849</td></tr>\n",
       "    <tr><td class='row_index'>5</td><td>0.804255</td><td>0.195745</td></tr>\n",
       "    <tr><td class='row_index'>6</td><td>0.871229</td><td>0.128771</td></tr>\n",
       "    <tr><td class='row_index'>7</td><td>0.978235</td><td>0.0217652</td></tr>\n",
       "    <tr><td class='row_index'>8</td><td>0.800372</td><td>0.199628</td></tr>\n",
       "    <tr><td class='row_index'>9</td><td>0.761216</td><td>0.238784</td></tr>\n",
       "  </tbody>\n",
       "  </table>\n",
       "  <div class='footer'>\n",
       "    <div class='frame_dimensions'>10 rows &times; 2 columns</div>\n",
       "  </div>\n",
       "</div>\n"
      ],
      "text/plain": [
       "<Frame#7f6b227c0e10 10x2>"
      ]
     },
     "execution_count": 20,
     "metadata": {},
     "output_type": "execute_result"
    }
   ],
   "source": [
    "preds_valid_2 = model_ftrl_2.predict(valid_data)\n",
    "preds_valid_2.head()"
   ]
  },
  {
   "cell_type": "code",
   "execution_count": 21,
   "id": "989e1f7f",
   "metadata": {
    "execution": {
     "iopub.execute_input": "2021-07-31T10:31:29.047657Z",
     "iopub.status.busy": "2021-07-31T10:31:29.047053Z",
     "iopub.status.idle": "2021-07-31T10:31:29.060716Z",
     "shell.execute_reply": "2021-07-31T10:31:29.061197Z",
     "shell.execute_reply.started": "2021-07-31T08:02:31.924103Z"
    },
    "papermill": {
     "duration": 4.849051,
     "end_time": "2021-07-31T10:31:29.061371",
     "exception": false,
     "start_time": "2021-07-31T10:31:24.212320",
     "status": "completed"
    },
    "tags": []
   },
   "outputs": [
    {
     "data": {
      "text/html": [
       "<div class='datatable'>\n",
       "  <table class='frame'>\n",
       "  <thead>\n",
       "    <tr class='colnames'><td class='row_index'></td><th>False</th><th>True</th></tr>\n",
       "    <tr class='coltypes'><td class='row_index'></td><td class='float' title='float32'>&#x25AA;&#x25AA;&#x25AA;&#x25AA;</td><td class='float' title='float32'>&#x25AA;&#x25AA;&#x25AA;&#x25AA;</td></tr>\n",
       "  </thead>\n",
       "  <tbody>\n",
       "    <tr><td class='row_index'>0</td><td>0.854086</td><td>0.145914</td></tr>\n",
       "    <tr><td class='row_index'>1</td><td>0.830438</td><td>0.169562</td></tr>\n",
       "    <tr><td class='row_index'>2</td><td>0.799169</td><td>0.200831</td></tr>\n",
       "    <tr><td class='row_index'>3</td><td>0.954347</td><td>0.0456529</td></tr>\n",
       "    <tr><td class='row_index'>4</td><td>0.696285</td><td>0.303715</td></tr>\n",
       "    <tr><td class='row_index'>5</td><td>0.718953</td><td>0.281047</td></tr>\n",
       "    <tr><td class='row_index'>6</td><td>0.799779</td><td>0.200221</td></tr>\n",
       "    <tr><td class='row_index'>7</td><td>0.891158</td><td>0.108842</td></tr>\n",
       "    <tr><td class='row_index'>8</td><td>0.950826</td><td>0.0491741</td></tr>\n",
       "    <tr><td class='row_index'>9</td><td>0.856919</td><td>0.143081</td></tr>\n",
       "  </tbody>\n",
       "  </table>\n",
       "  <div class='footer'>\n",
       "    <div class='frame_dimensions'>10 rows &times; 2 columns</div>\n",
       "  </div>\n",
       "</div>\n"
      ],
      "text/plain": [
       "<Frame#7f6b23e33630 10x2>"
      ]
     },
     "execution_count": 21,
     "metadata": {},
     "output_type": "execute_result"
    }
   ],
   "source": [
    "preds_test_2 = model_ftrl_2.predict(test)\n",
    "preds_test_2.head()"
   ]
  },
  {
   "cell_type": "code",
   "execution_count": 22,
   "id": "5db0ce6a",
   "metadata": {
    "execution": {
     "iopub.execute_input": "2021-07-31T10:31:29.245536Z",
     "iopub.status.busy": "2021-07-31T10:31:29.244998Z",
     "iopub.status.idle": "2021-07-31T10:31:29.248998Z",
     "shell.execute_reply": "2021-07-31T10:31:29.248527Z",
     "shell.execute_reply.started": "2021-07-31T08:02:35.118797Z"
    },
    "papermill": {
     "duration": 0.145521,
     "end_time": "2021-07-31T10:31:29.249122",
     "exception": false,
     "start_time": "2021-07-31T10:31:29.103601",
     "status": "completed"
    },
    "tags": []
   },
   "outputs": [
    {
     "data": {
      "text/plain": [
       "0.39996975660324097"
      ]
     },
     "execution_count": 22,
     "metadata": {},
     "output_type": "execute_result"
    }
   ],
   "source": [
    "preds = dt.cbind(valid_target, preds_valid_2)\n",
    "preds[:, -dt.mean(dt.f.click * dt.math.log(dt.f['True']) + (1-dt.f.click) * dt.math.log(dt.f['False']))][0, 0]"
   ]
  },
  {
   "cell_type": "code",
   "execution_count": 23,
   "id": "f50316ac",
   "metadata": {
    "execution": {
     "iopub.execute_input": "2021-07-31T10:31:29.325134Z",
     "iopub.status.busy": "2021-07-31T10:31:29.324665Z",
     "iopub.status.idle": "2021-07-31T10:31:29.621274Z",
     "shell.execute_reply": "2021-07-31T10:31:29.620839Z",
     "shell.execute_reply.started": "2021-07-31T08:02:35.354671Z"
    },
    "papermill": {
     "duration": 0.335437,
     "end_time": "2021-07-31T10:31:29.621399",
     "exception": false,
     "start_time": "2021-07-31T10:31:29.285962",
     "status": "completed"
    },
    "tags": []
   },
   "outputs": [
    {
     "data": {
      "text/html": [
       "<div class='datatable'>\n",
       "  <table class='frame'>\n",
       "  <thead>\n",
       "    <tr class='colnames'><td class='row_index'></td><th>id</th><th>click</th></tr>\n",
       "    <tr class='coltypes'><td class='row_index'></td><td class='str' title='str32'>&#x25AA;&#x25AA;&#x25AA;&#x25AA;</td><td class='float' title='float32'>&#x25AA;&#x25AA;&#x25AA;&#x25AA;</td></tr>\n",
       "  </thead>\n",
       "  <tbody>\n",
       "    <tr><td class='row_index'>0</td><td>10000174058809263569</td><td>0.145914</td></tr>\n",
       "    <tr><td class='row_index'>1</td><td>10000182526920855428</td><td>0.169562</td></tr>\n",
       "    <tr><td class='row_index'>2</td><td>10000554139829213984</td><td>0.200831</td></tr>\n",
       "    <tr><td class='row_index'>3</td><td>10001094637809798845</td><td>0.0456529</td></tr>\n",
       "    <tr><td class='row_index'>4</td><td>10001377041558670745</td><td>0.303715</td></tr>\n",
       "    <tr><td class='row_index'>5</td><td>10001521204153353724</td><td>0.281047</td></tr>\n",
       "    <tr><td class='row_index'>6</td><td>10001911056707023378</td><td>0.200221</td></tr>\n",
       "    <tr><td class='row_index'>7</td><td>10001982898844213216</td><td>0.108842</td></tr>\n",
       "    <tr><td class='row_index'>8</td><td>10002000217531288531</td><td>0.0491741</td></tr>\n",
       "    <tr><td class='row_index'>9</td><td>10002107385290585663</td><td>0.143081</td></tr>\n",
       "  </tbody>\n",
       "  </table>\n",
       "  <div class='footer'>\n",
       "    <div class='frame_dimensions'>10 rows &times; 2 columns</div>\n",
       "  </div>\n",
       "</div>\n"
      ],
      "text/plain": [
       "<Frame#7f6b227a49c0 10x2>"
      ]
     },
     "execution_count": 23,
     "metadata": {},
     "output_type": "execute_result"
    }
   ],
   "source": [
    "submission_2 = dt.Frame(id=test_ids, click=preds_test_2['True'])\n",
    "submission_2.to_csv('submission_2.csv')\n",
    "submission_2.head()"
   ]
  },
  {
   "cell_type": "markdown",
   "id": "4a1edc9c",
   "metadata": {
    "papermill": {
     "duration": 0.03683,
     "end_time": "2021-07-31T10:31:29.701951",
     "exception": false,
     "start_time": "2021-07-31T10:31:29.665121",
     "status": "completed"
    },
    "tags": []
   },
   "source": [
    "**Exercise 99: Submit a ensemble of `model_ftrl_1` and `model_ftrl_2` by averaging the predictions as `submission_ensemble`**"
   ]
  },
  {
   "cell_type": "code",
   "execution_count": 24,
   "id": "23e9fcf3",
   "metadata": {
    "execution": {
     "iopub.execute_input": "2021-07-31T10:31:30.301161Z",
     "iopub.status.busy": "2021-07-31T10:31:30.300557Z",
     "iopub.status.idle": "2021-07-31T10:31:30.309390Z",
     "shell.execute_reply": "2021-07-31T10:31:30.308925Z",
     "shell.execute_reply.started": "2021-07-30T05:36:25.948007Z"
    },
    "papermill": {
     "duration": 0.570811,
     "end_time": "2021-07-31T10:31:30.309525",
     "exception": false,
     "start_time": "2021-07-31T10:31:29.738714",
     "status": "completed"
    },
    "tags": []
   },
   "outputs": [
    {
     "name": "stderr",
     "output_type": "stream",
     "text": [
      "DatatableWarning: Duplicate column names found, and were assigned unique names: 'id' -> 'id.0', 'click' -> 'click.0'\n"
     ]
    },
    {
     "data": {
      "text/html": [
       "<div class='datatable'>\n",
       "  <table class='frame'>\n",
       "  <thead>\n",
       "    <tr class='colnames'><td class='row_index'></td><th>id</th><th>click</th></tr>\n",
       "    <tr class='coltypes'><td class='row_index'></td><td class='str' title='str32'>&#x25AA;&#x25AA;&#x25AA;&#x25AA;</td><td class='float' title='float64'>&#x25AA;&#x25AA;&#x25AA;&#x25AA;&#x25AA;&#x25AA;&#x25AA;&#x25AA;</td></tr>\n",
       "  </thead>\n",
       "  <tbody>\n",
       "    <tr><td class='row_index'>0</td><td>10000174058809263569</td><td>0.140154</td></tr>\n",
       "    <tr><td class='row_index'>1</td><td>10000182526920855428</td><td>0.170474</td></tr>\n",
       "    <tr><td class='row_index'>2</td><td>10000554139829213984</td><td>0.201043</td></tr>\n",
       "    <tr><td class='row_index'>3</td><td>10001094637809798845</td><td>0.0478034</td></tr>\n",
       "    <tr><td class='row_index'>4</td><td>10001377041558670745</td><td>0.304605</td></tr>\n",
       "    <tr><td class='row_index'>5</td><td>10001521204153353724</td><td>0.285576</td></tr>\n",
       "    <tr><td class='row_index'>6</td><td>10001911056707023378</td><td>0.206758</td></tr>\n",
       "    <tr><td class='row_index'>7</td><td>10001982898844213216</td><td>0.110601</td></tr>\n",
       "    <tr><td class='row_index'>8</td><td>10002000217531288531</td><td>0.0563849</td></tr>\n",
       "    <tr><td class='row_index'>9</td><td>10002107385290585663</td><td>0.145969</td></tr>\n",
       "  </tbody>\n",
       "  </table>\n",
       "  <div class='footer'>\n",
       "    <div class='frame_dimensions'>10 rows &times; 2 columns</div>\n",
       "  </div>\n",
       "</div>\n"
      ],
      "text/plain": [
       "<Frame#7f6b227c0870 10x2>"
      ]
     },
     "execution_count": 24,
     "metadata": {},
     "output_type": "execute_result"
    }
   ],
   "source": [
    "submission_ensemble = dt.cbind(submission_1, submission_2)\n",
    "submission_ensemble[:, dt.update(click = 0.5 * dt.f.click + 0.5 * dt.f['click.0'])]\n",
    "del submission_ensemble[:, ['id.0', 'click.0']]\n",
    "submission_ensemble.to_csv('submission_ensemble.csv')\n",
    "submission_ensemble.head()"
   ]
  },
  {
   "cell_type": "markdown",
   "id": "260c6a74",
   "metadata": {
    "papermill": {
     "duration": 0.038657,
     "end_time": "2021-07-31T10:31:30.390762",
     "exception": false,
     "start_time": "2021-07-31T10:31:30.352105",
     "status": "completed"
    },
    "tags": []
   },
   "source": [
    "**Exercise 100: Use datatable on your own datasets and projects**"
   ]
  },
  {
   "cell_type": "code",
   "execution_count": 25,
   "id": "4905e97b",
   "metadata": {
    "execution": {
     "iopub.execute_input": "2021-07-31T10:31:30.471723Z",
     "iopub.status.busy": "2021-07-31T10:31:30.471169Z",
     "iopub.status.idle": "2021-07-31T10:31:30.474107Z",
     "shell.execute_reply": "2021-07-31T10:31:30.473700Z",
     "shell.execute_reply.started": "2021-07-31T09:48:50.091503Z"
    },
    "papermill": {
     "duration": 0.045884,
     "end_time": "2021-07-31T10:31:30.474229",
     "exception": false,
     "start_time": "2021-07-31T10:31:30.428345",
     "status": "completed"
    },
    "tags": []
   },
   "outputs": [],
   "source": [
    "import datatable as dt\n",
    "from datatable.models import Ftrl"
   ]
  },
  {
   "cell_type": "code",
   "execution_count": 26,
   "id": "9446b07d",
   "metadata": {
    "execution": {
     "iopub.execute_input": "2021-07-31T10:31:30.553808Z",
     "iopub.status.busy": "2021-07-31T10:31:30.553211Z",
     "iopub.status.idle": "2021-07-31T10:31:56.175025Z",
     "shell.execute_reply": "2021-07-31T10:31:56.175528Z",
     "shell.execute_reply.started": "2021-07-31T09:52:06.453992Z"
    },
    "papermill": {
     "duration": 25.663715,
     "end_time": "2021-07-31T10:31:56.175752",
     "exception": false,
     "start_time": "2021-07-31T10:31:30.512037",
     "status": "completed"
    },
    "tags": []
   },
   "outputs": [
    {
     "data": {
      "text/html": [
       "<div class='datatable'>\n",
       "  <table class='frame'>\n",
       "  <thead>\n",
       "    <tr class='colnames'><td class='row_index'></td><th>id</th><th>x1</th><th>x2</th><th>x3</th><th>x4</th><th>x5</th><th>x6</th><th>x7</th><th>x8</th><th>x9</th><th class='vellipsis'>&hellip;</th><th>x141</th><th>x142</th><th>x143</th><th>x144</th><th>x145</th></tr>\n",
       "    <tr class='coltypes'><td class='row_index'></td><td class='int' title='int32'>&#x25AA;&#x25AA;&#x25AA;&#x25AA;</td><td class='str' title='str32'>&#x25AA;&#x25AA;&#x25AA;&#x25AA;</td><td class='str' title='str32'>&#x25AA;&#x25AA;&#x25AA;&#x25AA;</td><td class='str' title='str32'>&#x25AA;&#x25AA;&#x25AA;&#x25AA;</td><td class='str' title='str32'>&#x25AA;&#x25AA;&#x25AA;&#x25AA;</td><td class='float' title='float64'>&#x25AA;&#x25AA;&#x25AA;&#x25AA;&#x25AA;&#x25AA;&#x25AA;&#x25AA;</td><td class='float' title='float64'>&#x25AA;&#x25AA;&#x25AA;&#x25AA;&#x25AA;&#x25AA;&#x25AA;&#x25AA;</td><td class='float' title='float64'>&#x25AA;&#x25AA;&#x25AA;&#x25AA;&#x25AA;&#x25AA;&#x25AA;&#x25AA;</td><td class='float' title='float64'>&#x25AA;&#x25AA;&#x25AA;&#x25AA;&#x25AA;&#x25AA;&#x25AA;&#x25AA;</td><td class='float' title='float64'>&#x25AA;&#x25AA;&#x25AA;&#x25AA;&#x25AA;&#x25AA;&#x25AA;&#x25AA;</td><td></td><td class='str' title='str32'>&#x25AA;&#x25AA;&#x25AA;&#x25AA;</td><td class='str' title='str32'>&#x25AA;&#x25AA;&#x25AA;&#x25AA;</td><td class='int' title='int32'>&#x25AA;&#x25AA;&#x25AA;&#x25AA;</td><td class='float' title='float64'>&#x25AA;&#x25AA;&#x25AA;&#x25AA;&#x25AA;&#x25AA;&#x25AA;&#x25AA;</td><td class='float' title='float64'>&#x25AA;&#x25AA;&#x25AA;&#x25AA;&#x25AA;&#x25AA;&#x25AA;&#x25AA;</td></tr>\n",
       "  </thead>\n",
       "  <tbody>\n",
       "    <tr><td class='row_index'>0</td><td>1</td><td>NO</td><td>NO</td><td>dqOiM6yBYgnVSezBRiQXs9bvOFnRqrtIoXRIElxD7g8=</td><td>GNjrXXA3SxbgD0dTRblAPO9jFJ7AIaZnu/f48g5XSUk=</td><td>0.576561</td><td>0.0731394</td><td>0.481394</td><td>0.115697</td><td>0.472474</td><td class=vellipsis>&hellip;</td><td>NO</td><td>YES</td><td>2</td><td>0.375535</td><td>0.46461</td></tr>\n",
       "    <tr><td class='row_index'>1</td><td>2</td><td></td><td></td><td></td><td></td><td>0</td><td>0</td><td>0</td><td>0</td><td>0</td><td class=vellipsis>&hellip;</td><td>NO</td><td>YES</td><td>4</td><td>0.741682</td><td>0.59363</td></tr>\n",
       "    <tr><td class='row_index'>2</td><td>3</td><td>NO</td><td>NO</td><td>ib4VpsEsqJHzDiyL0dZLQ+xQzDPrkxE+9T3mx5fv2wI=</td><td>X6dDAI/DZOWvu0Dg6gCgRoNr2vTUz/mc4SdHTNUPS38=</td><td>1.3418</td><td>0.0514217</td><td>0.935572</td><td>0.0414398</td><td>0.50171</td><td class=vellipsis>&hellip;</td><td>NO</td><td>NO</td><td>1</td><td>0.776467</td><td>0.493159</td></tr>\n",
       "    <tr><td class='row_index'>3</td><td>4</td><td>YES</td><td>NO</td><td>BfrqME7vdLw3suQp6YAT16W2piNUmpKhMzuDrVrFQ4w=</td><td>YGCdISifn4fLao/ASKdZFhGIq23oqzfSbUVb6px1pig=</td><td>0.653912</td><td>0.0414707</td><td>0.940787</td><td>0.0908508</td><td>0.556564</td><td class=vellipsis>&hellip;</td><td>NO</td><td>YES</td><td>3</td><td>0.168234</td><td>0.546582</td></tr>\n",
       "    <tr><td class='row_index'>4</td><td>5</td><td>NO</td><td>NO</td><td>RTjsrrR8DTlJyaIP9Q3Z8s0zseqlVQTrlSe97GCWfbk=</td><td>3yK2OPj1uYDsoMgsxsjY1FxXkOllD8Xfh20VYGqT+nU=</td><td>1.41592</td><td>0</td><td>1</td><td>0</td><td>0.375297</td><td class=vellipsis>&hellip;</td><td>NO</td><td>NO</td><td>1</td><td>0.246637</td><td>0.361045</td></tr>\n",
       "    <tr><td class='row_index'>5</td><td>6</td><td>NO</td><td>NO</td><td>cz26ErvsEb3tZqeaIlmLIwjn8D7YVXYynSLV1WltcUk=</td><td>olN1LoaeSyI8h+udI/jquozrw4R8YQ+cVwHq1dOUO5s=</td><td>1.41368</td><td>0</td><td>1</td><td>0</td><td>0.667724</td><td class=vellipsis>&hellip;</td><td>NO</td><td>YES</td><td>2</td><td>0.263453</td><td>0.659001</td></tr>\n",
       "    <tr><td class='row_index'>6</td><td>7</td><td>NO</td><td>NO</td><td>m5L1gU5gqVRl202bsd4bnfsAkf7VyXSuHW1m02wGFBY=</td><td>X6dDAI/DZOWvu0Dg6gCgRoNr2vTUz/mc4SdHTNUPS38=</td><td>0.595554</td><td>0.0273621</td><td>0.940787</td><td>0.0908508</td><td>0.357532</td><td class=vellipsis>&hellip;</td><td>NO</td><td>YES</td><td>2</td><td>0.200086</td><td>0.34755</td></tr>\n",
       "    <tr><td class='row_index'>7</td><td>8</td><td>NO</td><td>NO</td><td>+DmbZpPes1kiIlEhrsEbhzCI6D7BbRkQKVA93qYRvAI=</td><td>ubHy/++3FVAS97znZOt7L+cjkZFJREIiJPRZEfRIztc=</td><td>0.32578</td><td>0.0752458</td><td>0.219752</td><td>0.264429</td><td>0.409555</td><td class=vellipsis>&hellip;</td><td>NO</td><td>NO</td><td>2</td><td>0.182557</td><td>0.397837</td></tr>\n",
       "    <tr><td class='row_index'>8</td><td>9</td><td></td><td></td><td></td><td></td><td>0</td><td>0</td><td>0</td><td>0</td><td>0</td><td class=vellipsis>&hellip;</td><td>NO</td><td>YES</td><td>1</td><td>0.923426</td><td>0.702032</td></tr>\n",
       "    <tr><td class='row_index'>9</td><td>10</td><td>NO</td><td>NO</td><td>IMXZ1f/AIvj3ay/f2XKKw9FlTUhBlhvvD8vyj172WKQ=</td><td>vOPAlFJxrZoxaQht2ylUA2U0jUyFGxJF7iy/SNua2+U=</td><td>1.17487</td><td>0.656599</td><td>0.785563</td><td>1.16037</td><td>0.830483</td><td class=vellipsis>&hellip;</td><td>NO</td><td>YES</td><td>5</td><td>0.734219</td><td>0.822574</td></tr>\n",
       "  </tbody>\n",
       "  </table>\n",
       "  <div class='footer'>\n",
       "    <div class='frame_dimensions'>10 rows &times; 146 columns</div>\n",
       "  </div>\n",
       "</div>\n"
      ],
      "text/plain": [
       "<Frame#7f6b227c0c30 10x146>"
      ]
     },
     "execution_count": 26,
     "metadata": {},
     "output_type": "execute_result"
    }
   ],
   "source": [
    "train = dt.fread('../input/tradeshift-text-classification/train.csv.gz')\n",
    "train.head()"
   ]
  },
  {
   "cell_type": "code",
   "execution_count": 27,
   "id": "51ca863f",
   "metadata": {
    "execution": {
     "iopub.execute_input": "2021-07-31T10:31:56.294681Z",
     "iopub.status.busy": "2021-07-31T10:31:56.293979Z",
     "iopub.status.idle": "2021-07-31T10:32:05.457411Z",
     "shell.execute_reply": "2021-07-31T10:32:05.457999Z",
     "shell.execute_reply.started": "2021-07-31T09:49:25.309969Z"
    },
    "papermill": {
     "duration": 9.224689,
     "end_time": "2021-07-31T10:32:05.458183",
     "exception": false,
     "start_time": "2021-07-31T10:31:56.233494",
     "status": "completed"
    },
    "tags": []
   },
   "outputs": [
    {
     "data": {
      "text/html": [
       "<div class='datatable'>\n",
       "  <table class='frame'>\n",
       "  <thead>\n",
       "    <tr class='colnames'><td class='row_index'></td><th>id</th><th>x1</th><th>x2</th><th>x3</th><th>x4</th><th>x5</th><th>x6</th><th>x7</th><th>x8</th><th>x9</th><th class='vellipsis'>&hellip;</th><th>x141</th><th>x142</th><th>x143</th><th>x144</th><th>x145</th></tr>\n",
       "    <tr class='coltypes'><td class='row_index'></td><td class='int' title='int32'>&#x25AA;&#x25AA;&#x25AA;&#x25AA;</td><td class='str' title='str32'>&#x25AA;&#x25AA;&#x25AA;&#x25AA;</td><td class='str' title='str32'>&#x25AA;&#x25AA;&#x25AA;&#x25AA;</td><td class='str' title='str32'>&#x25AA;&#x25AA;&#x25AA;&#x25AA;</td><td class='str' title='str32'>&#x25AA;&#x25AA;&#x25AA;&#x25AA;</td><td class='float' title='float64'>&#x25AA;&#x25AA;&#x25AA;&#x25AA;&#x25AA;&#x25AA;&#x25AA;&#x25AA;</td><td class='float' title='float64'>&#x25AA;&#x25AA;&#x25AA;&#x25AA;&#x25AA;&#x25AA;&#x25AA;&#x25AA;</td><td class='float' title='float64'>&#x25AA;&#x25AA;&#x25AA;&#x25AA;&#x25AA;&#x25AA;&#x25AA;&#x25AA;</td><td class='float' title='float64'>&#x25AA;&#x25AA;&#x25AA;&#x25AA;&#x25AA;&#x25AA;&#x25AA;&#x25AA;</td><td class='float' title='float64'>&#x25AA;&#x25AA;&#x25AA;&#x25AA;&#x25AA;&#x25AA;&#x25AA;&#x25AA;</td><td></td><td class='str' title='str32'>&#x25AA;&#x25AA;&#x25AA;&#x25AA;</td><td class='str' title='str32'>&#x25AA;&#x25AA;&#x25AA;&#x25AA;</td><td class='int' title='int32'>&#x25AA;&#x25AA;&#x25AA;&#x25AA;</td><td class='float' title='float64'>&#x25AA;&#x25AA;&#x25AA;&#x25AA;&#x25AA;&#x25AA;&#x25AA;&#x25AA;</td><td class='float' title='float64'>&#x25AA;&#x25AA;&#x25AA;&#x25AA;&#x25AA;&#x25AA;&#x25AA;&#x25AA;</td></tr>\n",
       "  </thead>\n",
       "  <tbody>\n",
       "    <tr><td class='row_index'>0</td><td>1700001</td><td>YES</td><td>NO</td><td>I7K7j9mvUurktDbybGa8nYojS5TrOrQqvAandHsdjv8=</td><td>YGCdISifn4fLao/ASKdZFhGIq23oqzfSbUVb6px1pig=</td><td>0.653698</td><td>0.0416845</td><td>0.940573</td><td>0.0908508</td><td>0.873563</td><td class=vellipsis>&hellip;</td><td>NO</td><td>YES</td><td>3</td><td>0.168448</td><td>0.863581</td></tr>\n",
       "    <tr><td class='row_index'>1</td><td>1700002</td><td>NO</td><td>NO</td><td>cSuQaz0xx+UxAtskjMBN1xCeacDm/4oJYEIDFL3CMoU=</td><td>vOPAlFJxrZoxaQht2ylUA2U0jUyFGxJF7iy/SNua2+U=</td><td>1.29412</td><td>0</td><td>1</td><td>0</td><td>0.468855</td><td class=vellipsis>&hellip;</td><td>NO</td><td>YES</td><td>1</td><td>0.694989</td><td>0.468855</td></tr>\n",
       "    <tr><td class='row_index'>2</td><td>1700003</td><td>NO</td><td>NO</td><td>VduR3ZHc2+rs/i34uA1VtOPTyOogJacJNc3mBuRRjIU=</td><td>ZSznNzP7c1xuAbA4HWA+NnJ4UXhlkZckpXtvQW/EJPw=</td><td>0.457076</td><td>0.318488</td><td>0.360094</td><td>0.444477</td><td>0.354545</td><td class=vellipsis>&hellip;</td><td>NO</td><td>YES</td><td>0</td><td>0.326106</td><td>0.345455</td></tr>\n",
       "    <tr><td class='row_index'>3</td><td>1700004</td><td>NO</td><td>NO</td><td>S7l8SI3WbSTbhCSCcNJBWCtNjh8fSqS3ZhPZ3X+EGGU=</td><td>aZTF/lredyP4cukeN8bh6kpBjYmS1QFNpPOg2LVm3Lg=</td><td>1.08588</td><td>0.874811</td><td>0.939825</td><td>1.05473</td><td>0.767586</td><td class=vellipsis>&hellip;</td><td>NO</td><td>YES</td><td>1</td><td>0.750832</td><td>0.760316</td></tr>\n",
       "    <tr><td class='row_index'>4</td><td>1700005</td><td>NO</td><td>NO</td><td>YKBNeCS2s8QQz1xy7Aes8Ina4f27Q022R7ggwOX58l0=</td><td>6E1RoTs+Er+giZsKw158lVBRFEjPAoSaWCcPwdXuk6k=</td><td>1.4148</td><td>0</td><td>1</td><td>0</td><td>0.348653</td><td class=vellipsis>&hellip;</td><td>NO</td><td>NO</td><td>10</td><td>0.580717</td><td>0.337559</td></tr>\n",
       "    <tr><td class='row_index'>5</td><td>1700006</td><td>NO</td><td>NO</td><td>PvbkXzFj7ZrCmKlUrkKTSNvT9lcE2BgwQbuPWzjjr1o=</td><td>4LhhvTzxwvh2SnFtcpaRasyvph66a3YDIQCshAfyS2o=</td><td>1.29412</td><td>0</td><td>1</td><td>0</td><td>0.307239</td><td class=vellipsis>&hellip;</td><td>NO</td><td>YES</td><td>3</td><td>0.232026</td><td>0.291246</td></tr>\n",
       "    <tr><td class='row_index'>6</td><td>1700007</td><td></td><td></td><td></td><td></td><td>0</td><td>0</td><td>0</td><td>0</td><td>0</td><td class=vellipsis>&hellip;</td><td>NO</td><td>YES</td><td>3</td><td>0.926009</td><td>0.255943</td></tr>\n",
       "    <tr><td class='row_index'>7</td><td>1700008</td><td>NO</td><td>NO</td><td>of++PFL1bbB+kD+ut5T+Iwizb/9eFwjag8LUngoW8Gg=</td><td>EI0dNKKW6d1fYeK0fkGEp7/pY1RFj2bw/Pk47eN1Ls4=</td><td>1.4148</td><td>0</td><td>1</td><td>0</td><td>0.213946</td><td class=vellipsis>&hellip;</td><td>NO</td><td>NO</td><td>0</td><td>0.029148</td><td>0.206022</td></tr>\n",
       "    <tr><td class='row_index'>8</td><td>1700009</td><td>NO</td><td>NO</td><td>AyUKdwJjCuwoVZ3jPrVyvnZeNS7UA/Ax6wpkgjegCGQ=</td><td>LLq6/7mBuo5pBB3xZCtooTsWqpSRfGhCln/WAHBwmNQ=</td><td>1.41368</td><td>0</td><td>1</td><td>0</td><td>0.680412</td><td class=vellipsis>&hellip;</td><td>NO</td><td>YES</td><td>0</td><td>0.0997758</td><td>0.670103</td></tr>\n",
       "    <tr><td class='row_index'>9</td><td>1700010</td><td>NO</td><td>NO</td><td>EVM/jSDSOjHBhtk7JQOLFeUb1FSAvyoL18jVgRSrcvg=</td><td>pHy5/m37WXgicL2NksCPoQ54Fpgz+pPWudDtbA2ZrTM=</td><td>1.4148</td><td>0</td><td>1</td><td>0</td><td>0.160063</td><td class=vellipsis>&hellip;</td><td>NO</td><td>NO</td><td>0</td><td>0.213004</td><td>0.14897</td></tr>\n",
       "  </tbody>\n",
       "  </table>\n",
       "  <div class='footer'>\n",
       "    <div class='frame_dimensions'>10 rows &times; 146 columns</div>\n",
       "  </div>\n",
       "</div>\n"
      ],
      "text/plain": [
       "<Frame#7f6b227c0b40 10x146>"
      ]
     },
     "execution_count": 27,
     "metadata": {},
     "output_type": "execute_result"
    }
   ],
   "source": [
    "test = dt.fread('../input/tradeshift-text-classification/test.csv.gz')\n",
    "test.head()"
   ]
  },
  {
   "cell_type": "code",
   "execution_count": 28,
   "id": "c1a21e73",
   "metadata": {
    "execution": {
     "iopub.execute_input": "2021-07-31T10:32:05.546153Z",
     "iopub.status.busy": "2021-07-31T10:32:05.545602Z",
     "iopub.status.idle": "2021-07-31T10:32:06.359529Z",
     "shell.execute_reply": "2021-07-31T10:32:06.360254Z",
     "shell.execute_reply.started": "2021-07-31T09:49:39.228413Z"
    },
    "papermill": {
     "duration": 0.856373,
     "end_time": "2021-07-31T10:32:06.360453",
     "exception": false,
     "start_time": "2021-07-31T10:32:05.504080",
     "status": "completed"
    },
    "tags": []
   },
   "outputs": [
    {
     "data": {
      "text/html": [
       "<div class='datatable'>\n",
       "  <table class='frame'>\n",
       "  <thead>\n",
       "    <tr class='colnames'><td class='row_index'></td><th>id</th><th>y1</th><th>y2</th><th>y3</th><th>y4</th><th>y5</th><th>y6</th><th>y7</th><th>y8</th><th>y9</th><th class='vellipsis'>&hellip;</th><th>y29</th><th>y30</th><th>y31</th><th>y32</th><th>y33</th></tr>\n",
       "    <tr class='coltypes'><td class='row_index'></td><td class='int' title='int32'>&#x25AA;&#x25AA;&#x25AA;&#x25AA;</td><td class='bool' title='bool8'>&#x25AA;</td><td class='bool' title='bool8'>&#x25AA;</td><td class='bool' title='bool8'>&#x25AA;</td><td class='bool' title='bool8'>&#x25AA;</td><td class='bool' title='bool8'>&#x25AA;</td><td class='bool' title='bool8'>&#x25AA;</td><td class='bool' title='bool8'>&#x25AA;</td><td class='bool' title='bool8'>&#x25AA;</td><td class='bool' title='bool8'>&#x25AA;</td><td></td><td class='bool' title='bool8'>&#x25AA;</td><td class='bool' title='bool8'>&#x25AA;</td><td class='bool' title='bool8'>&#x25AA;</td><td class='bool' title='bool8'>&#x25AA;</td><td class='bool' title='bool8'>&#x25AA;</td></tr>\n",
       "  </thead>\n",
       "  <tbody>\n",
       "    <tr><td class='row_index'>0</td><td>1</td><td>0</td><td>0</td><td>0</td><td>0</td><td>0</td><td>0</td><td>0</td><td>0</td><td>0</td><td class=vellipsis>&hellip;</td><td>0</td><td>0</td><td>0</td><td>0</td><td>1</td></tr>\n",
       "    <tr><td class='row_index'>1</td><td>2</td><td>0</td><td>0</td><td>0</td><td>0</td><td>0</td><td>0</td><td>0</td><td>0</td><td>0</td><td class=vellipsis>&hellip;</td><td>0</td><td>0</td><td>0</td><td>1</td><td>0</td></tr>\n",
       "    <tr><td class='row_index'>2</td><td>3</td><td>0</td><td>0</td><td>1</td><td>0</td><td>0</td><td>0</td><td>0</td><td>0</td><td>0</td><td class=vellipsis>&hellip;</td><td>0</td><td>0</td><td>0</td><td>0</td><td>0</td></tr>\n",
       "    <tr><td class='row_index'>3</td><td>4</td><td>0</td><td>0</td><td>0</td><td>0</td><td>0</td><td>0</td><td>0</td><td>0</td><td>0</td><td class=vellipsis>&hellip;</td><td>0</td><td>0</td><td>0</td><td>0</td><td>1</td></tr>\n",
       "    <tr><td class='row_index'>4</td><td>5</td><td>0</td><td>0</td><td>0</td><td>0</td><td>0</td><td>0</td><td>0</td><td>0</td><td>0</td><td class=vellipsis>&hellip;</td><td>0</td><td>0</td><td>0</td><td>0</td><td>1</td></tr>\n",
       "    <tr><td class='row_index'>5</td><td>6</td><td>0</td><td>0</td><td>0</td><td>0</td><td>0</td><td>0</td><td>0</td><td>0</td><td>0</td><td class=vellipsis>&hellip;</td><td>0</td><td>0</td><td>0</td><td>0</td><td>1</td></tr>\n",
       "    <tr><td class='row_index'>6</td><td>7</td><td>0</td><td>0</td><td>0</td><td>0</td><td>0</td><td>0</td><td>0</td><td>0</td><td>0</td><td class=vellipsis>&hellip;</td><td>0</td><td>0</td><td>0</td><td>0</td><td>1</td></tr>\n",
       "    <tr><td class='row_index'>7</td><td>8</td><td>0</td><td>0</td><td>0</td><td>0</td><td>0</td><td>0</td><td>0</td><td>0</td><td>0</td><td class=vellipsis>&hellip;</td><td>0</td><td>0</td><td>0</td><td>0</td><td>1</td></tr>\n",
       "    <tr><td class='row_index'>8</td><td>9</td><td>0</td><td>0</td><td>0</td><td>0</td><td>0</td><td>1</td><td>0</td><td>0</td><td>0</td><td class=vellipsis>&hellip;</td><td>0</td><td>0</td><td>1</td><td>0</td><td>0</td></tr>\n",
       "    <tr><td class='row_index'>9</td><td>10</td><td>0</td><td>0</td><td>0</td><td>0</td><td>0</td><td>0</td><td>0</td><td>0</td><td>0</td><td class=vellipsis>&hellip;</td><td>0</td><td>0</td><td>0</td><td>0</td><td>1</td></tr>\n",
       "  </tbody>\n",
       "  </table>\n",
       "  <div class='footer'>\n",
       "    <div class='frame_dimensions'>10 rows &times; 34 columns</div>\n",
       "  </div>\n",
       "</div>\n"
      ],
      "text/plain": [
       "<Frame#7f6b227c0b70 10x34>"
      ]
     },
     "execution_count": 28,
     "metadata": {},
     "output_type": "execute_result"
    }
   ],
   "source": [
    "train_labels = dt.fread('../input/tradeshift-text-classification/trainLabels.csv.gz')\n",
    "train_labels.head()"
   ]
  },
  {
   "cell_type": "code",
   "execution_count": 29,
   "id": "4ad5a926",
   "metadata": {
    "execution": {
     "iopub.execute_input": "2021-07-31T10:33:11.673233Z",
     "iopub.status.busy": "2021-07-31T10:33:11.586790Z",
     "iopub.status.idle": "2021-07-31T11:08:40.380431Z",
     "shell.execute_reply": "2021-07-31T11:08:40.380930Z",
     "shell.execute_reply.started": "2021-07-31T09:57:36.705342Z"
    },
    "papermill": {
     "duration": 2193.975543,
     "end_time": "2021-07-31T11:08:40.381095",
     "exception": false,
     "start_time": "2021-07-31T10:32:06.405552",
     "status": "completed"
    },
    "tags": []
   },
   "outputs": [
    {
     "name": "stdout",
     "output_type": "stream",
     "text": [
      "Model for target y1\n",
      "Model for target y2\n",
      "Model for target y3\n",
      "Model for target y4\n",
      "Model for target y5\n",
      "Model for target y6\n",
      "Model for target y7\n",
      "Model for target y8\n",
      "Model for target y9\n",
      "Model for target y10\n",
      "Model for target y11\n",
      "Model for target y12\n",
      "Model for target y13\n",
      "Model for target y14\n",
      "Model for target y15\n",
      "Model for target y16\n",
      "Model for target y17\n",
      "Model for target y18\n",
      "Model for target y19\n",
      "Model for target y20\n",
      "Model for target y21\n",
      "Model for target y22\n",
      "Model for target y23\n",
      "Model for target y24\n",
      "Model for target y25\n",
      "Model for target y26\n",
      "Model for target y27\n",
      "Model for target y28\n",
      "Model for target y29\n",
      "Model for target y30\n",
      "Model for target y31\n",
      "Model for target y32\n",
      "Model for target y33\n"
     ]
    }
   ],
   "source": [
    "test_ids = test['id']\n",
    "\n",
    "del train['id']\n",
    "del test['id']\n",
    "\n",
    "submission = dt.Frame()\n",
    "\n",
    "for target in train_labels.names[1:]:\n",
    "    print(f'Model for target {target}')\n",
    "\n",
    "    model_ftrl = Ftrl(nepochs=5, nbins=10**8, lambda1=0.1)\n",
    "    model_ftrl.fit(train, train_labels[target])\n",
    "\n",
    "    preds_test = model_ftrl.predict(test)\n",
    "    submission_target = dt.Frame(id_label=test_ids[:, dt.as_type(dt.f.id, str) + f'_{target}'],\n",
    "                                 pred=preds_test['True'])\n",
    "    submission.rbind(submission_target)"
   ]
  },
  {
   "cell_type": "code",
   "execution_count": 30,
   "id": "3459e418",
   "metadata": {
    "execution": {
     "iopub.execute_input": "2021-07-31T11:08:41.646741Z",
     "iopub.status.busy": "2021-07-31T11:08:41.646038Z",
     "iopub.status.idle": "2021-07-31T11:08:41.678960Z",
     "shell.execute_reply": "2021-07-31T11:08:41.679395Z",
     "shell.execute_reply.started": "2021-07-31T10:08:15.89612Z"
    },
    "papermill": {
     "duration": 1.245399,
     "end_time": "2021-07-31T11:08:41.679564",
     "exception": false,
     "start_time": "2021-07-31T11:08:40.434165",
     "status": "completed"
    },
    "tags": []
   },
   "outputs": [
    {
     "data": {
      "text/html": [
       "<div class='datatable'>\n",
       "  <table class='frame'>\n",
       "  <thead>\n",
       "    <tr class='colnames'><td class='row_index'></td><th>id_label</th><th>pred</th></tr>\n",
       "    <tr class='coltypes'><td class='row_index'></td><td class='str' title='str32'>&#x25AA;&#x25AA;&#x25AA;&#x25AA;</td><td class='float' title='float32'>&#x25AA;&#x25AA;&#x25AA;&#x25AA;</td></tr>\n",
       "  </thead>\n",
       "  <tbody>\n",
       "    <tr><td class='row_index'>0</td><td>1700001_y1</td><td>1.03712e-05</td></tr>\n",
       "    <tr><td class='row_index'>1</td><td>1700002_y1</td><td>0.0001688</td></tr>\n",
       "    <tr><td class='row_index'>2</td><td>1700003_y1</td><td>7.39098e-06</td></tr>\n",
       "    <tr><td class='row_index'>3</td><td>1700004_y1</td><td>0.00121599</td></tr>\n",
       "    <tr><td class='row_index'>4</td><td>1700005_y1</td><td>0.000373244</td></tr>\n",
       "    <tr><td class='row_index'>5</td><td>1700006_y1</td><td>0.000266731</td></tr>\n",
       "    <tr><td class='row_index'>6</td><td>1700007_y1</td><td>0.222525</td></tr>\n",
       "    <tr><td class='row_index'>7</td><td>1700008_y1</td><td>1.01328e-05</td></tr>\n",
       "    <tr><td class='row_index'>8</td><td>1700009_y1</td><td>0.00172675</td></tr>\n",
       "    <tr><td class='row_index'>9</td><td>1700010_y1</td><td>0.000147462</td></tr>\n",
       "  </tbody>\n",
       "  </table>\n",
       "  <div class='footer'>\n",
       "    <div class='frame_dimensions'>10 rows &times; 2 columns</div>\n",
       "  </div>\n",
       "</div>\n"
      ],
      "text/plain": [
       "<Frame#7f6b227c02d0 10x2>"
      ]
     },
     "execution_count": 30,
     "metadata": {},
     "output_type": "execute_result"
    }
   ],
   "source": [
    "submission.to_csv('submission.csv')\n",
    "submission.head()"
   ]
  },
  {
   "cell_type": "markdown",
   "id": "6af53391",
   "metadata": {
    "papermill": {
     "duration": 0.042825,
     "end_time": "2021-07-31T11:08:41.769219",
     "exception": false,
     "start_time": "2021-07-31T11:08:41.726394",
     "status": "completed"
    },
    "tags": []
   },
   "source": [
    "✅ This completes Set 10: Capstone Projects (Exercises 91-100) and concludes **DatatableTon**: *💯 datatable exercises*\n",
    "\n",
    "Hope these exercises enabled you to learn more about the Python datatable library. If this project made you go from an amateur to a datatable ninja or helped you get a deeper understanding of datatable or was useful in teaching datatable to others, please share your thoughts and any other feedback or suggestions on our [GitHub Repository](https://github.com/vopani/datatableton) where you can also find all the exercises and solutions along with future updates."
   ]
  }
 ],
 "metadata": {
  "kernelspec": {
   "display_name": "Python 3",
   "language": "python",
   "name": "python3"
  },
  "language_info": {
   "codemirror_mode": {
    "name": "ipython",
    "version": 3
   },
   "file_extension": ".py",
   "mimetype": "text/x-python",
   "name": "python",
   "nbconvert_exporter": "python",
   "pygments_lexer": "ipython3",
   "version": "3.7.10"
  },
  "papermill": {
   "default_parameters": {},
   "duration": 2625.623608,
   "end_time": "2021-07-31T11:08:44.615327",
   "environment_variables": {},
   "exception": null,
   "input_path": "__notebook__.ipynb",
   "output_path": "__notebook__.ipynb",
   "parameters": {},
   "start_time": "2021-07-31T10:24:58.991719",
   "version": "2.3.3"
  }
 },
 "nbformat": 4,
 "nbformat_minor": 5
}
