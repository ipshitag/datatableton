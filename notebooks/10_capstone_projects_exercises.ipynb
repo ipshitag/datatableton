{
 "cells": [
  {
   "cell_type": "markdown",
   "id": "6ed7f78b",
   "metadata": {
    "_cell_guid": "b1076dfc-b9ad-4769-8c92-a6c4dae69d19",
    "_uuid": "8f2839f25d086af736a60e9eeb907d3b93b6e0e5",
    "papermill": {
     "duration": 0.029074,
     "end_time": "2021-07-31T11:39:37.257017",
     "exception": false,
     "start_time": "2021-07-31T11:39:37.227943",
     "status": "completed"
    },
    "tags": []
   },
   "source": [
    "<center>\n",
    "    <h1>DatatableTon</h1>\n",
    "    💯 datatable exercises\n",
    "    <br>\n",
    "    <br>\n",
    "    <a href='https://github.com/vopani/datatableton/blob/master/LICENSE'>\n",
    "        <img src='https://img.shields.io/badge/license-Apache%202.0-blue.svg?logo=apache'>\n",
    "    </a>\n",
    "    <a href='https://github.com/vopani/datatableton'>\n",
    "        <img src='https://img.shields.io/github/stars/vopani/datatableton?color=yellowgreen&logo=github'>\n",
    "    </a>\n",
    "    <a href='https://twitter.com/vopani'>\n",
    "        <img src='https://img.shields.io/twitter/follow/vopani'>\n",
    "    </a>\n",
    "</center>"
   ]
  },
  {
   "cell_type": "markdown",
   "id": "73cce18e",
   "metadata": {
    "papermill": {
     "duration": 0.02714,
     "end_time": "2021-07-31T11:39:37.312308",
     "exception": false,
     "start_time": "2021-07-31T11:39:37.285168",
     "status": "completed"
    },
    "tags": []
   },
   "source": [
    "<center>\n",
    "    This is Set 10: Capstone Projects (Exercises 91-100) of <b>DatatableTon</b>: <i>💯 datatable exercises</i>\n",
    "    <br>\n",
    "    You can find all the exercises and solutions on <a href=\"https://github.com/vopani/datatableton#exercises-\">GitHub</a>\n",
    "</center>"
   ]
  },
  {
   "cell_type": "markdown",
   "id": "53146bed",
   "metadata": {
    "papermill": {
     "duration": 0.027258,
     "end_time": "2021-07-31T11:39:37.367116",
     "exception": false,
     "start_time": "2021-07-31T11:39:37.339858",
     "status": "completed"
    },
    "tags": []
   },
   "source": [
    "**Prerequisites**\n",
    "* The `datatable` package should be upgraded to the latest version (or v1.0.0+).\n",
    "* The datasets from the [Avazu](https://www.kaggle.com/c/avazu-ctr-prediction/data) competition on kaggle will be used for the exercises and needs to be downloaded manually.\n",
    "* It is encouraged to use your own datasets for the last exercise but you can use the datasets from the [Tradeshift](https://www.kaggle.com/c/tradeshift-text-classification) competition on kaggle for practise."
   ]
  },
  {
   "cell_type": "code",
   "execution_count": 1,
   "id": "58158652",
   "metadata": {
    "_kg_hide-output": true,
    "execution": {
     "iopub.execute_input": "2021-07-31T11:39:37.426151Z",
     "iopub.status.busy": "2021-07-31T11:39:37.424918Z",
     "iopub.status.idle": "2021-07-31T11:40:13.748331Z",
     "shell.execute_reply": "2021-07-31T11:40:13.747473Z",
     "shell.execute_reply.started": "2021-07-26T10:21:32.941725Z"
    },
    "papermill": {
     "duration": 36.354304,
     "end_time": "2021-07-31T11:40:13.748546",
     "exception": false,
     "start_time": "2021-07-31T11:39:37.394242",
     "status": "completed"
    },
    "tags": []
   },
   "outputs": [
    {
     "name": "stdout",
     "output_type": "stream",
     "text": [
      "Requirement already satisfied: pip in /opt/conda/lib/python3.7/site-packages (21.1.2)\r\n",
      "Collecting pip\r\n",
      "  Downloading pip-21.2.2-py3-none-any.whl (1.6 MB)\r\n",
      "\u001b[K     |████████████████████████████████| 1.6 MB 809 kB/s \r\n",
      "\u001b[?25hInstalling collected packages: pip\r\n",
      "  Attempting uninstall: pip\r\n",
      "    Found existing installation: pip 21.1.2\r\n",
      "    Uninstalling pip-21.1.2:\r\n",
      "      Successfully uninstalled pip-21.1.2\r\n",
      "Successfully installed pip-21.2.2\r\n",
      "\u001b[33mWARNING: Running pip as root will break packages and permissions. You should install packages reliably by using venv: https://pip.pypa.io/warnings/venv\u001b[0m\r\n",
      "Requirement already satisfied: datatable in /opt/conda/lib/python3.7/site-packages (1.0.0)\r\n",
      "\u001b[33mWARNING: Running pip as the 'root' user can result in broken permissions and conflicting behaviour with the system package manager. It is recommended to use a virtual environment instead: https://pip.pypa.io/warnings/venv\u001b[0m\r\n"
     ]
    }
   ],
   "source": [
    "!python3 -m pip install -U pip\n",
    "!python3 -m pip install -U datatable"
   ]
  },
  {
   "cell_type": "code",
   "execution_count": 2,
   "id": "f57f7ed6",
   "metadata": {
    "execution": {
     "iopub.execute_input": "2021-07-31T11:40:13.822962Z",
     "iopub.status.busy": "2021-07-31T11:40:13.822175Z",
     "iopub.status.idle": "2021-07-31T11:40:14.022849Z",
     "shell.execute_reply": "2021-07-31T11:40:14.022109Z",
     "shell.execute_reply.started": "2021-07-31T09:48:21.04998Z"
    },
    "papermill": {
     "duration": 0.240746,
     "end_time": "2021-07-31T11:40:14.023017",
     "exception": false,
     "start_time": "2021-07-31T11:40:13.782271",
     "status": "completed"
    },
    "tags": []
   },
   "outputs": [
    {
     "data": {
      "text/html": [
       "<style type='text/css'>\n",
       ".datatable table.frame { margin-bottom: 0; }\n",
       ".datatable table.frame thead { border-bottom: none; }\n",
       ".datatable table.frame tr.coltypes td {  color: #FFFFFF;  line-height: 6px;  padding: 0 0.5em;}\n",
       ".datatable .bool    { background: #DDDD99; }\n",
       ".datatable .object  { background: #565656; }\n",
       ".datatable .int     { background: #5D9E5D; }\n",
       ".datatable .float   { background: #4040CC; }\n",
       ".datatable .str     { background: #CC4040; }\n",
       ".datatable .time    { background: #40CC40; }\n",
       ".datatable .row_index {  background: var(--jp-border-color3);  border-right: 1px solid var(--jp-border-color0);  color: var(--jp-ui-font-color3);  font-size: 9px;}\n",
       ".datatable .frame tbody td { text-align: left; }\n",
       ".datatable .frame tr.coltypes .row_index {  background: var(--jp-border-color0);}\n",
       ".datatable th:nth-child(2) { padding-left: 12px; }\n",
       ".datatable .hellipsis {  color: var(--jp-cell-editor-border-color);}\n",
       ".datatable .vellipsis {  background: var(--jp-layout-color0);  color: var(--jp-cell-editor-border-color);}\n",
       ".datatable .na {  color: var(--jp-cell-editor-border-color);  font-size: 80%;}\n",
       ".datatable .sp {  opacity: 0.25;}\n",
       ".datatable .footer { font-size: 9px; }\n",
       ".datatable .frame_dimensions {  background: var(--jp-border-color3);  border-top: 1px solid var(--jp-border-color0);  color: var(--jp-ui-font-color3);  display: inline-block;  opacity: 0.6;  padding: 1px 10px 1px 5px;}\n",
       "</style>\n"
      ],
      "text/plain": [
       "<IPython.core.display.HTML object>"
      ]
     },
     "metadata": {},
     "output_type": "display_data"
    }
   ],
   "source": [
    "## edit the paths to the downloaded datasets of Avazu\n",
    "PATH_TRAIN = '../input/avazu-ctr-prediction/train.gz'\n",
    "PATH_TEST = '../input/avazu-ctr-prediction/test.gz'\n",
    "\n",
    "import datatable as dt"
   ]
  },
  {
   "cell_type": "markdown",
   "id": "839b303d",
   "metadata": {
    "papermill": {
     "duration": 0.033092,
     "end_time": "2021-07-31T11:40:14.090664",
     "exception": false,
     "start_time": "2021-07-31T11:40:14.057572",
     "status": "completed"
    },
    "tags": []
   },
   "source": [
    "**Exercise 91: Read `train.gz` and `test.gz` and assign it to `train` and `test` respectively**"
   ]
  },
  {
   "cell_type": "code",
   "execution_count": null,
   "id": "1dcb0a37",
   "metadata": {
    "execution": {
     "iopub.execute_input": "2021-07-31T10:25:42.052389Z",
     "iopub.status.busy": "2021-07-31T10:25:42.051886Z",
     "iopub.status.idle": "2021-07-31T10:26:44.219050Z",
     "shell.execute_reply": "2021-07-31T10:26:44.219496Z",
     "shell.execute_reply.started": "2021-07-31T07:40:30.061615Z"
    },
    "papermill": {
     "duration": 0.03403,
     "end_time": "2021-07-31T11:40:14.158215",
     "exception": false,
     "start_time": "2021-07-31T11:40:14.124185",
     "status": "completed"
    },
    "tags": []
   },
   "outputs": [],
   "source": []
  },
  {
   "cell_type": "code",
   "execution_count": null,
   "id": "b7eaef1b",
   "metadata": {
    "execution": {
     "iopub.execute_input": "2021-07-31T10:26:44.287335Z",
     "iopub.status.busy": "2021-07-31T10:26:44.286810Z",
     "iopub.status.idle": "2021-07-31T10:26:52.717207Z",
     "shell.execute_reply": "2021-07-31T10:26:52.717629Z",
     "shell.execute_reply.started": "2021-07-31T07:41:40.914749Z"
    },
    "papermill": {
     "duration": 0.037118,
     "end_time": "2021-07-31T11:40:14.229861",
     "exception": false,
     "start_time": "2021-07-31T11:40:14.192743",
     "status": "completed"
    },
    "tags": []
   },
   "outputs": [],
   "source": []
  },
  {
   "cell_type": "markdown",
   "id": "2d5cc1c8",
   "metadata": {
    "papermill": {
     "duration": 0.033441,
     "end_time": "2021-07-31T11:40:14.310921",
     "exception": false,
     "start_time": "2021-07-31T11:40:14.277480",
     "status": "completed"
    },
    "tags": []
   },
   "source": [
    "**Exercise 92: Drop the `id` column and update the `hour` column with the hour as an integer in `train`**"
   ]
  },
  {
   "cell_type": "code",
   "execution_count": null,
   "id": "390def6f",
   "metadata": {
    "execution": {
     "iopub.execute_input": "2021-07-31T10:26:52.921555Z",
     "iopub.status.busy": "2021-07-31T10:26:52.915526Z",
     "iopub.status.idle": "2021-07-31T10:26:52.925894Z",
     "shell.execute_reply": "2021-07-31T10:26:52.925482Z",
     "shell.execute_reply.started": "2021-07-31T07:41:49.765315Z"
    },
    "papermill": {
     "duration": 0.032463,
     "end_time": "2021-07-31T11:40:14.376858",
     "exception": false,
     "start_time": "2021-07-31T11:40:14.344395",
     "status": "completed"
    },
    "tags": []
   },
   "outputs": [],
   "source": []
  },
  {
   "cell_type": "markdown",
   "id": "c14a7b95",
   "metadata": {
    "papermill": {
     "duration": 0.033144,
     "end_time": "2021-07-31T11:40:14.443705",
     "exception": false,
     "start_time": "2021-07-31T11:40:14.410561",
     "status": "completed"
    },
    "tags": []
   },
   "source": [
    "**Exercise 93: Assign the column `id` to `test_ids`, drop it from `test` and update the `hour` column with the hour as an integer in `test`**"
   ]
  },
  {
   "cell_type": "code",
   "execution_count": null,
   "id": "f1e78be2",
   "metadata": {
    "execution": {
     "iopub.execute_input": "2021-07-31T10:26:53.052477Z",
     "iopub.status.busy": "2021-07-31T10:26:53.051708Z",
     "iopub.status.idle": "2021-07-31T10:26:53.055477Z",
     "shell.execute_reply": "2021-07-31T10:26:53.054958Z",
     "shell.execute_reply.started": "2021-07-31T07:41:49.840067Z"
    },
    "papermill": {
     "duration": 0.033188,
     "end_time": "2021-07-31T11:40:14.509807",
     "exception": false,
     "start_time": "2021-07-31T11:40:14.476619",
     "status": "completed"
    },
    "tags": []
   },
   "outputs": [],
   "source": []
  },
  {
   "cell_type": "code",
   "execution_count": null,
   "id": "fb35f326",
   "metadata": {
    "execution": {
     "iopub.execute_input": "2021-07-31T10:26:53.156289Z",
     "iopub.status.busy": "2021-07-31T10:26:53.155805Z",
     "iopub.status.idle": "2021-07-31T10:26:53.161092Z",
     "shell.execute_reply": "2021-07-31T10:26:53.160688Z",
     "shell.execute_reply.started": "2021-07-31T07:41:49.851787Z"
    },
    "papermill": {
     "duration": 0.032381,
     "end_time": "2021-07-31T11:40:14.576200",
     "exception": false,
     "start_time": "2021-07-31T11:40:14.543819",
     "status": "completed"
    },
    "tags": []
   },
   "outputs": [],
   "source": []
  },
  {
   "cell_type": "markdown",
   "id": "fcfbd858",
   "metadata": {
    "papermill": {
     "duration": 0.032428,
     "end_time": "2021-07-31T11:40:14.641629",
     "exception": false,
     "start_time": "2021-07-31T11:40:14.609201",
     "status": "completed"
    },
    "tags": []
   },
   "source": [
    "**Exercise 94: Split `train` into `valid_data`, `valid_target` for rows where `hour=23` and rest as `train_data`, `train_target`**"
   ]
  },
  {
   "cell_type": "code",
   "execution_count": null,
   "id": "ab62889e",
   "metadata": {
    "execution": {
     "iopub.execute_input": "2021-07-31T10:27:09.999242Z",
     "iopub.status.busy": "2021-07-31T10:27:09.997776Z",
     "iopub.status.idle": "2021-07-31T10:27:10.005034Z",
     "shell.execute_reply": "2021-07-31T10:27:10.004180Z",
     "shell.execute_reply.started": "2021-07-31T07:41:49.862748Z"
    },
    "papermill": {
     "duration": 0.033196,
     "end_time": "2021-07-31T11:40:14.707673",
     "exception": false,
     "start_time": "2021-07-31T11:40:14.674477",
     "status": "completed"
    },
    "tags": []
   },
   "outputs": [],
   "source": []
  },
  {
   "cell_type": "code",
   "execution_count": null,
   "id": "ac1fc9c3",
   "metadata": {
    "execution": {
     "iopub.execute_input": "2021-07-31T10:27:25.548571Z",
     "iopub.status.busy": "2021-07-31T10:27:25.547956Z",
     "iopub.status.idle": "2021-07-31T10:27:25.552508Z",
     "shell.execute_reply": "2021-07-31T10:27:25.551743Z",
     "shell.execute_reply.started": "2021-07-31T07:42:03.620336Z"
    },
    "papermill": {
     "duration": 0.032534,
     "end_time": "2021-07-31T11:40:14.773793",
     "exception": false,
     "start_time": "2021-07-31T11:40:14.741259",
     "status": "completed"
    },
    "tags": []
   },
   "outputs": [],
   "source": []
  },
  {
   "cell_type": "code",
   "execution_count": null,
   "id": "2acedee2",
   "metadata": {
    "execution": {
     "iopub.execute_input": "2021-07-31T10:27:40.502543Z",
     "iopub.status.busy": "2021-07-31T10:27:40.501193Z",
     "iopub.status.idle": "2021-07-31T10:27:40.505189Z",
     "shell.execute_reply": "2021-07-31T10:27:40.504603Z",
     "shell.execute_reply.started": "2021-07-31T07:42:16.48611Z"
    },
    "papermill": {
     "duration": 0.033793,
     "end_time": "2021-07-31T11:40:14.840339",
     "exception": false,
     "start_time": "2021-07-31T11:40:14.806546",
     "status": "completed"
    },
    "tags": []
   },
   "outputs": [],
   "source": []
  },
  {
   "cell_type": "code",
   "execution_count": null,
   "id": "0147f8d9",
   "metadata": {
    "execution": {
     "iopub.execute_input": "2021-07-31T10:27:55.805933Z",
     "iopub.status.busy": "2021-07-31T10:27:55.805411Z",
     "iopub.status.idle": "2021-07-31T10:27:55.811953Z",
     "shell.execute_reply": "2021-07-31T10:27:55.811395Z",
     "shell.execute_reply.started": "2021-07-31T07:42:29.427109Z"
    },
    "papermill": {
     "duration": 0.03277,
     "end_time": "2021-07-31T11:40:14.909275",
     "exception": false,
     "start_time": "2021-07-31T11:40:14.876505",
     "status": "completed"
    },
    "tags": []
   },
   "outputs": [],
   "source": []
  },
  {
   "cell_type": "markdown",
   "id": "40d60c57",
   "metadata": {
    "papermill": {
     "duration": 0.032276,
     "end_time": "2021-07-31T11:40:14.975770",
     "exception": false,
     "start_time": "2021-07-31T11:40:14.943494",
     "status": "completed"
    },
    "tags": []
   },
   "source": [
    "**Exercise 95: Train a FTRL model `model_ftrl_1` using `train_data` and `train_target` and assign the predictions of `valid_data` to `preds_valid_1` and of `test` to `preds_test_1`**"
   ]
  },
  {
   "cell_type": "code",
   "execution_count": null,
   "id": "dd6bf8a1",
   "metadata": {
    "execution": {
     "iopub.execute_input": "2021-07-31T10:27:55.951352Z",
     "iopub.status.busy": "2021-07-31T10:27:55.950874Z",
     "iopub.status.idle": "2021-07-31T10:28:42.835850Z",
     "shell.execute_reply": "2021-07-31T10:28:42.836320Z",
     "shell.execute_reply.started": "2021-07-31T07:42:42.806432Z"
    },
    "papermill": {
     "duration": 0.032656,
     "end_time": "2021-07-31T11:40:15.042763",
     "exception": false,
     "start_time": "2021-07-31T11:40:15.010107",
     "status": "completed"
    },
    "tags": []
   },
   "outputs": [],
   "source": []
  },
  {
   "cell_type": "code",
   "execution_count": null,
   "id": "1e4334e0",
   "metadata": {
    "execution": {
     "iopub.execute_input": "2021-07-31T10:28:43.796281Z",
     "iopub.status.busy": "2021-07-31T10:28:43.795559Z",
     "iopub.status.idle": "2021-07-31T10:28:43.809108Z",
     "shell.execute_reply": "2021-07-31T10:28:43.809781Z",
     "shell.execute_reply.started": "2021-07-31T07:43:19.449075Z"
    },
    "papermill": {
     "duration": 0.032585,
     "end_time": "2021-07-31T11:40:15.108650",
     "exception": false,
     "start_time": "2021-07-31T11:40:15.076065",
     "status": "completed"
    },
    "tags": []
   },
   "outputs": [],
   "source": []
  },
  {
   "cell_type": "code",
   "execution_count": null,
   "id": "d3b774d7",
   "metadata": {
    "execution": {
     "iopub.execute_input": "2021-07-31T10:28:48.147523Z",
     "iopub.status.busy": "2021-07-31T10:28:48.146953Z",
     "iopub.status.idle": "2021-07-31T10:28:48.159066Z",
     "shell.execute_reply": "2021-07-31T10:28:48.159561Z",
     "shell.execute_reply.started": "2021-07-31T07:43:20.108301Z"
    },
    "papermill": {
     "duration": 0.032671,
     "end_time": "2021-07-31T11:40:15.174322",
     "exception": false,
     "start_time": "2021-07-31T11:40:15.141651",
     "status": "completed"
    },
    "tags": []
   },
   "outputs": [],
   "source": []
  },
  {
   "cell_type": "markdown",
   "id": "752d44b9",
   "metadata": {
    "papermill": {
     "duration": 0.032255,
     "end_time": "2021-07-31T11:40:15.239362",
     "exception": false,
     "start_time": "2021-07-31T11:40:15.207107",
     "status": "completed"
    },
    "tags": []
   },
   "source": [
    "**Exercise 96: Display the feature importances of `model_ftrl_1` in descending order and calculate the logloss of `valid_target` and `preds_valid_1`**"
   ]
  },
  {
   "cell_type": "code",
   "execution_count": null,
   "id": "72629fff",
   "metadata": {
    "execution": {
     "iopub.execute_input": "2021-07-31T10:28:48.309387Z",
     "iopub.status.busy": "2021-07-31T10:28:48.308721Z",
     "iopub.status.idle": "2021-07-31T10:28:48.312699Z",
     "shell.execute_reply": "2021-07-31T10:28:48.313192Z",
     "shell.execute_reply.started": "2021-07-31T07:43:23.034352Z"
    },
    "papermill": {
     "duration": 0.032343,
     "end_time": "2021-07-31T11:40:15.304218",
     "exception": false,
     "start_time": "2021-07-31T11:40:15.271875",
     "status": "completed"
    },
    "tags": []
   },
   "outputs": [],
   "source": []
  },
  {
   "cell_type": "code",
   "execution_count": null,
   "id": "5ceb5c74",
   "metadata": {
    "execution": {
     "iopub.execute_input": "2021-07-31T10:28:48.799052Z",
     "iopub.status.busy": "2021-07-31T10:28:48.798020Z",
     "iopub.status.idle": "2021-07-31T10:28:48.802192Z",
     "shell.execute_reply": "2021-07-31T10:28:48.802770Z",
     "shell.execute_reply.started": "2021-07-31T07:43:23.050406Z"
    },
    "papermill": {
     "duration": 0.03227,
     "end_time": "2021-07-31T11:40:15.369057",
     "exception": false,
     "start_time": "2021-07-31T11:40:15.336787",
     "status": "completed"
    },
    "tags": []
   },
   "outputs": [],
   "source": []
  },
  {
   "cell_type": "markdown",
   "id": "35bdc749",
   "metadata": {
    "papermill": {
     "duration": 0.03247,
     "end_time": "2021-07-31T11:40:15.435140",
     "exception": false,
     "start_time": "2021-07-31T11:40:15.402670",
     "status": "completed"
    },
    "tags": []
   },
   "source": [
    "**Exercise 97: Create `submission_1` in the submission format of the competition, write it as `submission_1.csv` and submit it on Kaggle**"
   ]
  },
  {
   "cell_type": "code",
   "execution_count": null,
   "id": "4358263c",
   "metadata": {
    "execution": {
     "iopub.execute_input": "2021-07-31T10:28:48.998931Z",
     "iopub.status.busy": "2021-07-31T10:28:48.998447Z",
     "iopub.status.idle": "2021-07-31T10:28:49.305798Z",
     "shell.execute_reply": "2021-07-31T10:28:49.306248Z",
     "shell.execute_reply.started": "2021-07-31T07:43:23.28522Z"
    },
    "papermill": {
     "duration": 0.032443,
     "end_time": "2021-07-31T11:40:15.500387",
     "exception": false,
     "start_time": "2021-07-31T11:40:15.467944",
     "status": "completed"
    },
    "tags": []
   },
   "outputs": [],
   "source": []
  },
  {
   "cell_type": "markdown",
   "id": "26114288",
   "metadata": {
    "papermill": {
     "duration": 0.032307,
     "end_time": "2021-07-31T11:40:15.566056",
     "exception": false,
     "start_time": "2021-07-31T11:40:15.533749",
     "status": "completed"
    },
    "tags": []
   },
   "source": [
    "**Exercise 98: Train another FTRL model `model_ftrl_2` with `nepochs=3`, `nbins=10 ** 8`, display it's feature importances, score & evaluate it's logloss on `valid_data` and submit the predictions `preds_test_2` of `test` as `submission_2`**"
   ]
  },
  {
   "cell_type": "code",
   "execution_count": null,
   "id": "04515057",
   "metadata": {
    "execution": {
     "iopub.execute_input": "2021-07-31T10:31:23.065205Z",
     "iopub.status.busy": "2021-07-31T10:31:23.023250Z",
     "iopub.status.idle": "2021-07-31T10:31:23.067128Z",
     "shell.execute_reply": "2021-07-31T10:31:23.065727Z",
     "shell.execute_reply.started": "2021-07-31T07:43:23.664284Z"
    },
    "papermill": {
     "duration": 0.032343,
     "end_time": "2021-07-31T11:40:15.631048",
     "exception": false,
     "start_time": "2021-07-31T11:40:15.598705",
     "status": "completed"
    },
    "tags": []
   },
   "outputs": [],
   "source": []
  },
  {
   "cell_type": "code",
   "execution_count": null,
   "id": "6c4ecb93",
   "metadata": {
    "execution": {
     "iopub.execute_input": "2021-07-31T10:31:23.145348Z",
     "iopub.status.busy": "2021-07-31T10:31:23.144756Z",
     "iopub.status.idle": "2021-07-31T10:31:23.146948Z",
     "shell.execute_reply": "2021-07-31T10:31:23.147796Z",
     "shell.execute_reply.started": "2021-07-31T08:02:28.881609Z"
    },
    "papermill": {
     "duration": 0.032323,
     "end_time": "2021-07-31T11:40:15.695969",
     "exception": false,
     "start_time": "2021-07-31T11:40:15.663646",
     "status": "completed"
    },
    "tags": []
   },
   "outputs": [],
   "source": []
  },
  {
   "cell_type": "code",
   "execution_count": null,
   "id": "cc68525b",
   "metadata": {
    "execution": {
     "iopub.execute_input": "2021-07-31T10:31:24.162359Z",
     "iopub.status.busy": "2021-07-31T10:31:24.161224Z",
     "iopub.status.idle": "2021-07-31T10:31:24.168977Z",
     "shell.execute_reply": "2021-07-31T10:31:24.169423Z",
     "shell.execute_reply.started": "2021-07-31T08:02:30.553859Z"
    },
    "papermill": {
     "duration": 0.033193,
     "end_time": "2021-07-31T11:40:15.762299",
     "exception": false,
     "start_time": "2021-07-31T11:40:15.729106",
     "status": "completed"
    },
    "tags": []
   },
   "outputs": [],
   "source": []
  },
  {
   "cell_type": "code",
   "execution_count": null,
   "id": "dc845e60",
   "metadata": {
    "execution": {
     "iopub.execute_input": "2021-07-31T10:31:29.047657Z",
     "iopub.status.busy": "2021-07-31T10:31:29.047053Z",
     "iopub.status.idle": "2021-07-31T10:31:29.060716Z",
     "shell.execute_reply": "2021-07-31T10:31:29.061197Z",
     "shell.execute_reply.started": "2021-07-31T08:02:31.924103Z"
    },
    "papermill": {
     "duration": 0.03286,
     "end_time": "2021-07-31T11:40:15.827914",
     "exception": false,
     "start_time": "2021-07-31T11:40:15.795054",
     "status": "completed"
    },
    "tags": []
   },
   "outputs": [],
   "source": []
  },
  {
   "cell_type": "code",
   "execution_count": null,
   "id": "052aacd5",
   "metadata": {
    "execution": {
     "iopub.execute_input": "2021-07-31T10:31:29.245536Z",
     "iopub.status.busy": "2021-07-31T10:31:29.244998Z",
     "iopub.status.idle": "2021-07-31T10:31:29.248998Z",
     "shell.execute_reply": "2021-07-31T10:31:29.248527Z",
     "shell.execute_reply.started": "2021-07-31T08:02:35.118797Z"
    },
    "papermill": {
     "duration": 0.032963,
     "end_time": "2021-07-31T11:40:15.894017",
     "exception": false,
     "start_time": "2021-07-31T11:40:15.861054",
     "status": "completed"
    },
    "tags": []
   },
   "outputs": [],
   "source": []
  },
  {
   "cell_type": "code",
   "execution_count": null,
   "id": "7b3c54e1",
   "metadata": {
    "execution": {
     "iopub.execute_input": "2021-07-31T10:31:29.325134Z",
     "iopub.status.busy": "2021-07-31T10:31:29.324665Z",
     "iopub.status.idle": "2021-07-31T10:31:29.621274Z",
     "shell.execute_reply": "2021-07-31T10:31:29.620839Z",
     "shell.execute_reply.started": "2021-07-31T08:02:35.354671Z"
    },
    "papermill": {
     "duration": 0.032553,
     "end_time": "2021-07-31T11:40:15.959356",
     "exception": false,
     "start_time": "2021-07-31T11:40:15.926803",
     "status": "completed"
    },
    "tags": []
   },
   "outputs": [],
   "source": []
  },
  {
   "cell_type": "markdown",
   "id": "b379b15e",
   "metadata": {
    "papermill": {
     "duration": 0.03239,
     "end_time": "2021-07-31T11:40:16.025425",
     "exception": false,
     "start_time": "2021-07-31T11:40:15.993035",
     "status": "completed"
    },
    "tags": []
   },
   "source": [
    "**Exercise 99: Submit a ensemble of `model_ftrl_1` and `model_ftrl_2` by averaging the predictions as `submission_ensemble`**"
   ]
  },
  {
   "cell_type": "code",
   "execution_count": null,
   "id": "bf6c384a",
   "metadata": {
    "execution": {
     "iopub.execute_input": "2021-07-31T10:31:30.301161Z",
     "iopub.status.busy": "2021-07-31T10:31:30.300557Z",
     "iopub.status.idle": "2021-07-31T10:31:30.309390Z",
     "shell.execute_reply": "2021-07-31T10:31:30.308925Z",
     "shell.execute_reply.started": "2021-07-30T05:36:25.948007Z"
    },
    "papermill": {
     "duration": 0.03311,
     "end_time": "2021-07-31T11:40:16.091273",
     "exception": false,
     "start_time": "2021-07-31T11:40:16.058163",
     "status": "completed"
    },
    "tags": []
   },
   "outputs": [],
   "source": []
  },
  {
   "cell_type": "markdown",
   "id": "2143d6d7",
   "metadata": {
    "papermill": {
     "duration": 0.03225,
     "end_time": "2021-07-31T11:40:16.156309",
     "exception": false,
     "start_time": "2021-07-31T11:40:16.124059",
     "status": "completed"
    },
    "tags": []
   },
   "source": [
    "**Exercise 100: Use datatable on your own datasets and projects**"
   ]
  },
  {
   "cell_type": "code",
   "execution_count": null,
   "id": "9033fcc0",
   "metadata": {
    "execution": {
     "iopub.execute_input": "2021-07-31T10:31:30.471723Z",
     "iopub.status.busy": "2021-07-31T10:31:30.471169Z",
     "iopub.status.idle": "2021-07-31T10:31:30.474107Z",
     "shell.execute_reply": "2021-07-31T10:31:30.473700Z",
     "shell.execute_reply.started": "2021-07-31T09:48:50.091503Z"
    },
    "papermill": {
     "duration": 0.033515,
     "end_time": "2021-07-31T11:40:16.222342",
     "exception": false,
     "start_time": "2021-07-31T11:40:16.188827",
     "status": "completed"
    },
    "tags": []
   },
   "outputs": [],
   "source": []
  },
  {
   "cell_type": "markdown",
   "id": "6457b4cf",
   "metadata": {
    "papermill": {
     "duration": 0.032418,
     "end_time": "2021-07-31T11:40:16.287527",
     "exception": false,
     "start_time": "2021-07-31T11:40:16.255109",
     "status": "completed"
    },
    "tags": []
   },
   "source": [
    "✅ This completes Set 10: Capstone Projects (Exercises 91-100) and concludes **DatatableTon**: *💯 datatable exercises*\n",
    "\n",
    "Hope these exercises enabled you to learn more about the Python datatable library. If this project made you go from an amateur to a datatable ninja or helped you get a deeper understanding of datatable or was useful in teaching datatable to others, please share your thoughts and any other feedback or suggestions on our [GitHub Repository](https://github.com/vopani/datatableton) where you can also find all the exercises and solutions along with future updates."
   ]
  }
 ],
 "metadata": {
  "kernelspec": {
   "display_name": "Python 3",
   "language": "python",
   "name": "python3"
  },
  "language_info": {
   "codemirror_mode": {
    "name": "ipython",
    "version": 3
   },
   "file_extension": ".py",
   "mimetype": "text/x-python",
   "name": "python",
   "nbconvert_exporter": "python",
   "pygments_lexer": "ipython3",
   "version": "3.7.10"
  },
  "papermill": {
   "default_parameters": {},
   "duration": 48.565183,
   "end_time": "2021-07-31T11:40:17.031440",
   "environment_variables": {},
   "exception": null,
   "input_path": "__notebook__.ipynb",
   "output_path": "__notebook__.ipynb",
   "parameters": {},
   "start_time": "2021-07-31T11:39:28.466257",
   "version": "2.3.3"
  }
 },
 "nbformat": 4,
 "nbformat_minor": 5
}
